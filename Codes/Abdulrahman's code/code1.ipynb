{
 "cells": [
  {
   "cell_type": "code",
   "execution_count": 2,
   "metadata": {},
   "outputs": [],
   "source": [
    "from osgeo import gdal\n",
    "import numpy as np"
   ]
  },
  {
   "cell_type": "code",
   "execution_count": 3,
   "metadata": {},
   "outputs": [
    {
     "data": {
      "text/plain": [
       "['RUH-All-Bands_2019-01-14.tif',\n",
       " 'RUH-All-Bands_2019-02-13.tif',\n",
       " 'RUH-All-Bands_2018-12-15.tif',\n",
       " 'RUH-All-Bands_2019-03-15.tif',\n",
       " 'RUH-All-Bands_2019-04-14.tif',\n",
       " 'RUH-All-Bands_2019-07-13.tif',\n",
       " 'RUH-All-Bands_2019-06-13.tif',\n",
       " 'RUH-All-Bands_2019-05-14.tif',\n",
       " 'RUH-All-Bands_2019-08-12.tif',\n",
       " 'RUH-All-Bands_2019-10-11.tif',\n",
       " 'RUH-All-Bands_2019-09-11.tif',\n",
       " 'RUH-All-Bands_2019-11-10.tif',\n",
       " 'RUH-All-Bands_2020-01-09.tif',\n",
       " 'RUH-All-Bands_2019-12-10.tif',\n",
       " 'RUH-All-Bands_2020-02-08.tif',\n",
       " 'RUH-All-Bands_2020-04-08.tif',\n",
       " 'RUH-All-Bands_2020-03-09.tif',\n",
       " 'RUH-All-Bands_2020-06-07.tif',\n",
       " 'RUH-All-Bands_2020-05-08.tif',\n",
       " 'RUH-All-Bands_2020-07-07.tif',\n",
       " 'RUH-All-Bands_2020-09-05.tif',\n",
       " 'RUH-All-Bands_2020-10-05.tif',\n",
       " 'RUH-All-Bands_2020-08-06.tif',\n",
       " 'RUH-All-Bands_2020-11-04.tif',\n",
       " 'RUH-All-Bands_2021-01-03.tif',\n",
       " 'RUH-All-Bands_2020-12-04.tif',\n",
       " 'RUH-All-Bands_2021-02-02.tif',\n",
       " 'RUH-All-Bands_2021-03-04.tif',\n",
       " 'RUH-All-Bands_2021-05-03.tif',\n",
       " 'RUH-All-Bands_2021-06-02.tif',\n",
       " 'RUH-All-Bands_2021-04-03.tif',\n",
       " 'RUH-All-Bands_2021-07-02.tif',\n",
       " 'RUH-All-Bands_2021-08-01.tif',\n",
       " 'RUH-All-Bands_2021-09-30.tif',\n",
       " 'RUH-All-Bands_2021-08-31.tif',\n",
       " 'RUH-All-Bands_2021-10-30.tif',\n",
       " 'RUH-All-Bands_2021-11-29.tif',\n",
       " 'RUH-All-Bands_2021-12-29.tif',\n",
       " 'RUH-All-Bands_2022-01-28.tif',\n",
       " 'RUH-All-Bands_2022-02-27.tif',\n",
       " 'RUH-All-Bands_2022-04-28.tif',\n",
       " 'RUH-All-Bands_2022-06-27.tif',\n",
       " 'RUH-All-Bands_2022-05-28.tif',\n",
       " 'RUH-All-Bands_2022-07-27.tif',\n",
       " 'RUH-All-Bands_2022-08-26.tif',\n",
       " 'RUH-All-Bands_2022-09-25.tif',\n",
       " 'RUH-All-Bands_2022-10-25.tif',\n",
       " 'RUH-All-Bands_2023-01-23.tif',\n",
       " 'RUH-All-Bands_2022-11-24.tif',\n",
       " 'RUH-All-Bands_2023-02-22.tif',\n",
       " 'RUH-All-Bands_2023-03-24.tif',\n",
       " 'RUH-All-Bands_2023-04-23.tif',\n",
       " 'RUH-All-Bands_2023-05-23.tif',\n",
       " 'RUH-All-Bands_2023-06-22.tif',\n",
       " 'RUH-All-Bands_2023-07-22.tif',\n",
       " 'RUH-All-Bands_2023-10-20.tif',\n",
       " 'RUH-All-Bands_2023-09-20.tif',\n",
       " 'RUH-All-Bands_2023-08-21.tif',\n",
       " 'RUH-All-Bands_2023-11-19.tif',\n",
       " 'RUH-All-Bands_2023-12-19.tif']"
      ]
     },
     "execution_count": 3,
     "metadata": {},
     "output_type": "execute_result"
    }
   ],
   "source": [
    "import os\n",
    "\n",
    "path = 'N:\\\\My Drive\\\\RUH_all_bands'\n",
    "\n",
    "\n",
    "RUH_all_bands =  os.listdir(path)\n",
    "\n",
    "\n",
    "RUH_all_bands"
   ]
  },
  {
   "cell_type": "code",
   "execution_count": null,
   "metadata": {},
   "outputs": [],
   "source": [
    "'N:\\\\My Drive\\\\RUH_all_bands'"
   ]
  },
  {
   "cell_type": "code",
   "execution_count": 5,
   "metadata": {},
   "outputs": [],
   "source": [
    "def create_mask(image_path):\n",
    "    fullimg = gdal.Open(f'N:\\\\My Drive\\\\RUH_all_bands/{image_path}')\n",
    "\n",
    "    # Assuming the correct bands for NIR and Red are 8 and 4 respectively\n",
    "    nir = fullimg.GetRasterBand(8).ReadAsArray().astype(np.float32)\n",
    "    red = fullimg.GetRasterBand(4).ReadAsArray().astype(np.float32)\n",
    "\n",
    "    # Calculate NDVI\n",
    "    ndvi = (nir - red) / (nir + red)\n",
    "\n",
    "    # Crop the NDVI array to required dimensions\n",
    "    ndvi = ndvi[:6144, :6144]\n",
    "\n",
    "    # Get dimensions for the mask\n",
    "    height, width = ndvi.shape\n",
    "\n",
    "    # Create a mask array\n",
    "    image_mask = np.zeros((height, width), dtype=np.uint8)\n",
    "\n",
    "    # Populate the mask based on NDVI values\n",
    "    for y in range(height):\n",
    "        for x in range(width):\n",
    "            if ndvi[y][x] >= 0.66:  # Access should be [y][x], not [x][y]\n",
    "                image_mask[y][x] = 255\n",
    "            elif ndvi[y][x] >= 0.33:\n",
    "                image_mask[y][x] = 170\n",
    "            elif ndvi[y][x] >= 0.111:\n",
    "                image_mask[y][x] = 85\n",
    "            else:\n",
    "                image_mask[y][x] = 0\n",
    "\n",
    "    # Save the mask to a PNG file\n",
    "    mask = Image.fromarray(image_mask)\n",
    "    mask.save(f'N:\\\\My Drive\\\\test{image_path.split(\".\")[0]}.png')"
   ]
  },
  {
   "cell_type": "code",
   "execution_count": 7,
   "metadata": {},
   "outputs": [],
   "source": [
    "from PIL import Image  \n"
   ]
  },
  {
   "cell_type": "code",
   "execution_count": 8,
   "metadata": {},
   "outputs": [
    {
     "ename": "AttributeError",
     "evalue": "'NoneType' object has no attribute '__array_interface__'",
     "output_type": "error",
     "traceback": [
      "\u001b[1;31m---------------------------------------------------------------------------\u001b[0m",
      "\u001b[1;31mAttributeError\u001b[0m                            Traceback (most recent call last)",
      "\u001b[1;32mc:\\Users\\Musae\\Documents\\GitHub-REPOs\\Vegetation-Cover-In-Riyadh\\Codes\\Abdulrahman's code\\code1.ipynb Cell 6\u001b[0m line \u001b[0;36m3\n\u001b[0;32m      <a href='vscode-notebook-cell:/c%3A/Users/Musae/Documents/GitHub-REPOs/Vegetation-Cover-In-Riyadh/Codes/Abdulrahman%27s%20code/code1.ipynb#W1sZmlsZQ%3D%3D?line=0'>1</a>\u001b[0m array_image \u001b[39m=\u001b[39m create_mask(\u001b[39m\"\u001b[39m\u001b[39mRUH-All-Bands_2018-12-15.tif\u001b[39m\u001b[39m\"\u001b[39m)\n\u001b[1;32m----> <a href='vscode-notebook-cell:/c%3A/Users/Musae/Documents/GitHub-REPOs/Vegetation-Cover-In-Riyadh/Codes/Abdulrahman%27s%20code/code1.ipynb#W1sZmlsZQ%3D%3D?line=2'>3</a>\u001b[0m data \u001b[39m=\u001b[39m Image\u001b[39m.\u001b[39;49mfromarray(array_image)\n\u001b[0;32m      <a href='vscode-notebook-cell:/c%3A/Users/Musae/Documents/GitHub-REPOs/Vegetation-Cover-In-Riyadh/Codes/Abdulrahman%27s%20code/code1.ipynb#W1sZmlsZQ%3D%3D?line=4'>5</a>\u001b[0m data\u001b[39m.\u001b[39msave(\u001b[39mf\u001b[39m\u001b[39m'\u001b[39m\u001b[39mN:\u001b[39m\u001b[39m\\\\\u001b[39;00m\u001b[39mMy Drive\u001b[39m\u001b[39m\\\\\u001b[39;00m\u001b[39mtest\u001b[39m\u001b[39m{\u001b[39;00mimage_path\u001b[39m.\u001b[39msplit(\u001b[39m\"\u001b[39m\u001b[39m.\u001b[39m\u001b[39m\"\u001b[39m)[\u001b[39m0\u001b[39m]\u001b[39m}\u001b[39;00m\u001b[39m.png\u001b[39m\u001b[39m'\u001b[39m)\n",
      "File \u001b[1;32mc:\\Users\\Musae\\AppData\\Local\\Programs\\Python\\Python311\\Lib\\site-packages\\PIL\\Image.py:3059\u001b[0m, in \u001b[0;36mfromarray\u001b[1;34m(obj, mode)\u001b[0m\n\u001b[0;32m   3012\u001b[0m \u001b[39mdef\u001b[39;00m \u001b[39mfromarray\u001b[39m(obj, mode\u001b[39m=\u001b[39m\u001b[39mNone\u001b[39;00m):\n\u001b[0;32m   3013\u001b[0m \u001b[39m    \u001b[39m\u001b[39m\"\"\"\u001b[39;00m\n\u001b[0;32m   3014\u001b[0m \u001b[39m    Creates an image memory from an object exporting the array interface\u001b[39;00m\n\u001b[0;32m   3015\u001b[0m \u001b[39m    (using the buffer protocol)::\u001b[39;00m\n\u001b[1;32m   (...)\u001b[0m\n\u001b[0;32m   3057\u001b[0m \u001b[39m    .. versionadded:: 1.1.6\u001b[39;00m\n\u001b[0;32m   3058\u001b[0m \u001b[39m    \"\"\"\u001b[39;00m\n\u001b[1;32m-> 3059\u001b[0m     arr \u001b[39m=\u001b[39m obj\u001b[39m.\u001b[39;49m__array_interface__\n\u001b[0;32m   3060\u001b[0m     shape \u001b[39m=\u001b[39m arr[\u001b[39m\"\u001b[39m\u001b[39mshape\u001b[39m\u001b[39m\"\u001b[39m]\n\u001b[0;32m   3061\u001b[0m     ndim \u001b[39m=\u001b[39m \u001b[39mlen\u001b[39m(shape)\n",
      "\u001b[1;31mAttributeError\u001b[0m: 'NoneType' object has no attribute '__array_interface__'"
     ]
    }
   ],
   "source": [
    "array_image = create_mask(\"RUH-All-Bands_2018-12-15.tif\")\n",
    "\n",
    "data = Image.fromarray(array_image)\n",
    "\n",
    "data.save(f'N:\\\\My Drive\\\\test{image_path.split(\".\")[0]}.png')"
   ]
  },
  {
   "cell_type": "code",
   "execution_count": null,
   "metadata": {},
   "outputs": [],
   "source": [
    "for i in range(len(RUH_all_bands)):\n",
    "  create_mask((RUH_all_bands[i]))\n",
    "  print(i,\" is Done !\")"
   ]
  }
 ],
 "metadata": {
  "kernelspec": {
   "display_name": "Python 3",
   "language": "python",
   "name": "python3"
  },
  "language_info": {
   "codemirror_mode": {
    "name": "ipython",
    "version": 3
   },
   "file_extension": ".py",
   "mimetype": "text/x-python",
   "name": "python",
   "nbconvert_exporter": "python",
   "pygments_lexer": "ipython3",
   "version": "3.11.4"
  },
  "orig_nbformat": 4
 },
 "nbformat": 4,
 "nbformat_minor": 2
}
