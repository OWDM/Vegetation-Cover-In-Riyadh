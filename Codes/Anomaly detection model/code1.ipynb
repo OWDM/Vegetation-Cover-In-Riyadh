{
 "cells": [
  {
   "cell_type": "code",
   "execution_count": 1,
   "metadata": {},
   "outputs": [],
   "source": [
    "import numpy as np\n",
    "import os\n",
    "from tensorflow.keras.models import Model\n",
    "from tensorflow.keras.layers import Input, Dense\n",
    "from tensorflow.keras.optimizers import Adam"
   ]
  },
  {
   "cell_type": "code",
   "execution_count": 2,
   "metadata": {},
   "outputs": [
    {
     "ename": "NameError",
     "evalue": "name 'os' is not defined",
     "output_type": "error",
     "traceback": [
      "\u001b[1;31m---------------------------------------------------------------------------\u001b[0m",
      "\u001b[1;31mNameError\u001b[0m                                 Traceback (most recent call last)",
      "\u001b[1;32mc:\\Users\\Musae\\Documents\\GitHub-REPOs\\Vegetation-Cover-In-Riyadh\\Codes\\Anomaly detection model\\code1.ipynb Cell 2\u001b[0m line \u001b[0;36m3\n\u001b[0;32m     <a href='vscode-notebook-cell:/c%3A/Users/Musae/Documents/GitHub-REPOs/Vegetation-Cover-In-Riyadh/Codes/Anomaly%20detection%20model/code1.ipynb#W1sZmlsZQ%3D%3D?line=34'>35</a>\u001b[0m \u001b[39m# Path to your NDVI data directory\u001b[39;00m\n\u001b[0;32m     <a href='vscode-notebook-cell:/c%3A/Users/Musae/Documents/GitHub-REPOs/Vegetation-Cover-In-Riyadh/Codes/Anomaly%20detection%20model/code1.ipynb#W1sZmlsZQ%3D%3D?line=35'>36</a>\u001b[0m data_directory \u001b[39m=\u001b[39m \u001b[39mr\u001b[39m\u001b[39m'\u001b[39m\u001b[39mC:\u001b[39m\u001b[39m\\\u001b[39m\u001b[39mUsers\u001b[39m\u001b[39m\\\u001b[39m\u001b[39mMusae\u001b[39m\u001b[39m\\\u001b[39m\u001b[39mDocuments\u001b[39m\u001b[39m\\\u001b[39m\u001b[39mGitHub-REPOs\u001b[39m\u001b[39m\\\u001b[39m\u001b[39mSenior-project_Doc\u001b[39m\u001b[39m\\\u001b[39m\u001b[39mDocs\u001b[39m\u001b[39m\\\u001b[39m\u001b[39mArray\u001b[39m\u001b[39m\\\u001b[39m\u001b[39mNDVI-Reduced\u001b[39m\u001b[39m'\u001b[39m\n\u001b[1;32m---> <a href='vscode-notebook-cell:/c%3A/Users/Musae/Documents/GitHub-REPOs/Vegetation-Cover-In-Riyadh/Codes/Anomaly%20detection%20model/code1.ipynb#W1sZmlsZQ%3D%3D?line=36'>37</a>\u001b[0m data \u001b[39m=\u001b[39m load_data(data_directory)\n\u001b[0;32m     <a href='vscode-notebook-cell:/c%3A/Users/Musae/Documents/GitHub-REPOs/Vegetation-Cover-In-Riyadh/Codes/Anomaly%20detection%20model/code1.ipynb#W1sZmlsZQ%3D%3D?line=37'>38</a>\u001b[0m data \u001b[39m=\u001b[39m data\u001b[39m.\u001b[39mreshape(data\u001b[39m.\u001b[39mshape[\u001b[39m0\u001b[39m], \u001b[39m-\u001b[39m\u001b[39m1\u001b[39m)  \u001b[39m# Flatten data if it's not already\u001b[39;00m\n\u001b[0;32m     <a href='vscode-notebook-cell:/c%3A/Users/Musae/Documents/GitHub-REPOs/Vegetation-Cover-In-Riyadh/Codes/Anomaly%20detection%20model/code1.ipynb#W1sZmlsZQ%3D%3D?line=39'>40</a>\u001b[0m autoencoder \u001b[39m=\u001b[39m build_autoencoder(data\u001b[39m.\u001b[39mshape[\u001b[39m1\u001b[39m])\n",
      "\u001b[1;32mc:\\Users\\Musae\\Documents\\GitHub-REPOs\\Vegetation-Cover-In-Riyadh\\Codes\\Anomaly detection model\\code1.ipynb Cell 2\u001b[0m line \u001b[0;36m2\n\u001b[0;32m      <a href='vscode-notebook-cell:/c%3A/Users/Musae/Documents/GitHub-REPOs/Vegetation-Cover-In-Riyadh/Codes/Anomaly%20detection%20model/code1.ipynb#W1sZmlsZQ%3D%3D?line=0'>1</a>\u001b[0m \u001b[39mdef\u001b[39;00m \u001b[39mload_data\u001b[39m(directory):\n\u001b[1;32m----> <a href='vscode-notebook-cell:/c%3A/Users/Musae/Documents/GitHub-REPOs/Vegetation-Cover-In-Riyadh/Codes/Anomaly%20detection%20model/code1.ipynb#W1sZmlsZQ%3D%3D?line=1'>2</a>\u001b[0m     files \u001b[39m=\u001b[39m os\u001b[39m.\u001b[39mlistdir(directory)\n\u001b[0;32m      <a href='vscode-notebook-cell:/c%3A/Users/Musae/Documents/GitHub-REPOs/Vegetation-Cover-In-Riyadh/Codes/Anomaly%20detection%20model/code1.ipynb#W1sZmlsZQ%3D%3D?line=2'>3</a>\u001b[0m     all_data \u001b[39m=\u001b[39m []\n\u001b[0;32m      <a href='vscode-notebook-cell:/c%3A/Users/Musae/Documents/GitHub-REPOs/Vegetation-Cover-In-Riyadh/Codes/Anomaly%20detection%20model/code1.ipynb#W1sZmlsZQ%3D%3D?line=3'>4</a>\u001b[0m     \u001b[39mfor\u001b[39;00m file \u001b[39min\u001b[39;00m files:\n",
      "\u001b[1;31mNameError\u001b[0m: name 'os' is not defined"
     ]
    }
   ],
   "source": [
    "import numpy as np\n",
    "import os\n",
    "from tensorflow.keras.models import Model\n",
    "from tensorflow.keras.layers import Input, Dense\n",
    "from tensorflow.keras.optimizers import Adam\n",
    "\n",
    "def load_data(directory):\n",
    "    files = os.listdir(directory)\n",
    "    all_data = []\n",
    "    for file in files:\n",
    "        if file.endswith(\".npy\"):\n",
    "            data_path = os.path.join(directory, file)\n",
    "            data = np.load(data_path)\n",
    "            all_data.append(data)\n",
    "    return np.array(all_data)\n",
    "\n",
    "def build_autoencoder(input_dim):\n",
    "    input_layer = Input(shape=(input_dim,))\n",
    "    # Encoder\n",
    "    encoded = Dense(128, activation='relu')(input_layer)\n",
    "    encoded = Dense(64, activation='relu')(encoded)\n",
    "    # Decoder\n",
    "    decoded = Dense(128, activation='relu')(encoded)\n",
    "    decoded = Dense(input_dim, activation='sigmoid')(decoded)\n",
    "    \n",
    "    autoencoder = Model(input_layer, decoded)\n",
    "    autoencoder.compile(optimizer=Adam(learning_rate=0.001), loss='mean_squared_error')\n",
    "    return autoencoder\n",
    "\n",
    "def train_autoencoder(autoencoder, data):\n",
    "    autoencoder.fit(data, data, epochs=50, batch_size=256, shuffle=True, validation_split=0.1)\n",
    "\n",
    "def detect_anomalies(autoencoder, data):\n",
    "    predictions = autoencoder.predict(data)\n",
    "    errors = np.mean(np.square(data - predictions), axis=1)\n",
    "    threshold = np.quantile(errors, 0.99)\n",
    "    print(f\"Anomaly threshold: {threshold}\") \n",
    "    anomalies = data[errors > threshold]\n",
    "    return anomalies\n",
    "\n",
    "# Path to your NDVI data directory\n",
    "data_directory = r'C:\\Users\\Musae\\Documents\\GitHub-REPOs\\Senior-project_Doc\\Docs\\Array\\NDVI-Reduced'\n",
    "data = load_data(data_directory)\n",
    "data = data.reshape(data.shape[0], -1)  # Flatten data if it's not already\n",
    "\n",
    "autoencoder = build_autoencoder(data.shape[1])\n",
    "train_autoencoder(autoencoder, data)\n",
    "anomalies = detect_anomalies(autoencoder, data)\n",
    "\n",
    "print(f\"Detected {len(anomalies)} anomalies.\")"
   ]
  },
  {
   "cell_type": "code",
   "execution_count": 1,
   "metadata": {},
   "outputs": [
    {
     "ename": "NameError",
     "evalue": "name 'anomalies' is not defined",
     "output_type": "error",
     "traceback": [
      "\u001b[1;31m---------------------------------------------------------------------------\u001b[0m",
      "\u001b[1;31mNameError\u001b[0m                                 Traceback (most recent call last)",
      "\u001b[1;32mc:\\Users\\Musae\\Documents\\GitHub-REPOs\\Vegetation-Cover-In-Riyadh\\Codes\\Anomaly detection model\\code1.ipynb Cell 3\u001b[0m line \u001b[0;36m1\n\u001b[1;32m----> <a href='vscode-notebook-cell:/c%3A/Users/Musae/Documents/GitHub-REPOs/Vegetation-Cover-In-Riyadh/Codes/Anomaly%20detection%20model/code1.ipynb#W2sZmlsZQ%3D%3D?line=0'>1</a>\u001b[0m anomalies\n",
      "\u001b[1;31mNameError\u001b[0m: name 'anomalies' is not defined"
     ]
    }
   ],
   "source": [
    "anomalies"
   ]
  },
  {
   "cell_type": "code",
   "execution_count": null,
   "metadata": {},
   "outputs": [],
   "source": []
  }
 ],
 "metadata": {
  "kernelspec": {
   "display_name": "Python 3",
   "language": "python",
   "name": "python3"
  },
  "language_info": {
   "codemirror_mode": {
    "name": "ipython",
    "version": 3
   },
   "file_extension": ".py",
   "mimetype": "text/x-python",
   "name": "python",
   "nbconvert_exporter": "python",
   "pygments_lexer": "ipython3",
   "version": "3.11.4"
  },
  "orig_nbformat": 4
 },
 "nbformat": 4,
 "nbformat_minor": 2
}
