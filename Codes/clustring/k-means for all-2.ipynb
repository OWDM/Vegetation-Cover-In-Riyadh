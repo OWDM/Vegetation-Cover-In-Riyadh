{
 "cells": [
  {
   "cell_type": "code",
   "execution_count": 16,
   "metadata": {},
   "outputs": [],
   "source": [
    "import numpy as np\n",
    "import os\n",
    "from sklearn.cluster import KMeans\n",
    "import matplotlib.pyplot as plt\n",
    "from osgeo import gdal\n",
    "from sklearn.cluster import MiniBatchKMeans\n"
   ]
  },
  {
   "cell_type": "code",
   "execution_count": 20,
   "metadata": {},
   "outputs": [],
   "source": [
    "import numpy as np\n",
    "\n",
    "def load_and_preprocess_image(image_path):\n",
    "    \"\"\"\n",
    "    Loads an image using GDAL, processes it to compute the NDVI, and flattens the result.\n",
    "    \n",
    "    Parameters:\n",
    "    image_path (str): The file path to the image to be processed.\n",
    "    \n",
    "    Returns:\n",
    "    np.ndarray: A flattened array of NDVI values with NaNs replaced by 0.01.\n",
    "    \"\"\"\n",
    "    sub_image = gdal.Open(image_path)\n",
    "    NDVI = sub_image.GetRasterBand(1)\n",
    "    NDVI_array = NDVI.ReadAsArray()\n",
    "    return np.nan_to_num(NDVI_array, nan=0.01).flatten()\n",
    "\n",
    "def filter_values(array, threshold=0):\n",
    "    \"\"\"\n",
    "    Filters out values from the array that are less than the specified threshold.\n",
    "    \n",
    "    Parameters:\n",
    "    array (np.ndarray): The input array from which values will be filtered.\n",
    "    threshold (float): The threshold value. Values less than this will be removed from the array.\n",
    "    \n",
    "    Returns:\n",
    "    np.ndarray: A filtered array containing only values greater than or equal to the threshold.\n",
    "    \"\"\"\n",
    "    mask = array >= threshold\n",
    "    filtered_array = array[mask]\n",
    "    return filtered_array\n",
    "\n",
    "def process_image(image_path):\n",
    "    \"\"\"\n",
    "    Combines loading, preprocessing, and filtering of an image.\n",
    "    \n",
    "    Parameters:\n",
    "    image_path (str): The file path to the image to be processed.\n",
    "    \n",
    "    Returns:\n",
    "    np.ndarray: A filtered, flattened array of NDVI values with undesired values removed.\n",
    "    \"\"\"\n",
    "    # Load and preprocess the image\n",
    "    NDVI_array = load_and_preprocess_image(image_path)\n",
    "    \n",
    "    # Filter out undesired values\n",
    "    filtered_NDVI_array = filter_values(NDVI_array)\n",
    "    \n",
    "    return filtered_NDVI_array\n",
    "\n",
    "\n"
   ]
  },
  {
   "cell_type": "code",
   "execution_count": 21,
   "metadata": {},
   "outputs": [
    {
     "name": "stdout",
     "output_type": "stream",
     "text": [
      "[0.01       0.01       0.01       ... 0.0531615  0.0531615  0.05849246]\n"
     ]
    }
   ],
   "source": [
    "# Example usage\n",
    "image_path = 'C:\\\\Users\\\\Musae\\\\Documents\\\\GitHub-REPOs\\\\Senior-project-main\\\\Docs\\\\sub from all-4\\\\NDVI_RUH-B4-B8_2021-08-01.tif'\n",
    "filtered_NDVI = process_image(image_path)\n",
    "print(filtered_NDVI)"
   ]
  },
  {
   "cell_type": "code",
   "execution_count": null,
   "metadata": {},
   "outputs": [],
   "source": []
  },
  {
   "cell_type": "code",
   "execution_count": 22,
   "metadata": {},
   "outputs": [
    {
     "name": "stdout",
     "output_type": "stream",
     "text": [
      "Max pixel value: 0.7544524073600769\n",
      "Min pixel value: 0.0\n",
      "Average pixel value: 0.06931789964437485\n"
     ]
    }
   ],
   "source": [
    "# Example: Print some statistics about the data\n",
    "print(f\"Max pixel value: {np.max(filtered_NDVI)}\")\n",
    "print(f\"Min pixel value: {np.min(filtered_NDVI)}\")\n",
    "print(f\"Average pixel value: {np.mean(filtered_NDVI)}\")\n"
   ]
  }
 ],
 "metadata": {
  "kernelspec": {
   "display_name": "Python 3",
   "language": "python",
   "name": "python3"
  },
  "language_info": {
   "codemirror_mode": {
    "name": "ipython",
    "version": 3
   },
   "file_extension": ".py",
   "mimetype": "text/x-python",
   "name": "python",
   "nbconvert_exporter": "python",
   "pygments_lexer": "ipython3",
   "version": "3.11.4"
  },
  "orig_nbformat": 4
 },
 "nbformat": 4,
 "nbformat_minor": 2
}
