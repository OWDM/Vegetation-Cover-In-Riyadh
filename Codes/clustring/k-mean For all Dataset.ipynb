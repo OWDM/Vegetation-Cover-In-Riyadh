{
 "cells": [
  {
   "cell_type": "code",
   "execution_count": 9,
   "metadata": {},
   "outputs": [],
   "source": [
    "import numpy as np\n",
    "import os\n",
    "from sklearn.cluster import KMeans\n",
    "import matplotlib.pyplot as plt\n",
    "from osgeo import gdal\n",
    "from sklearn.cluster import MiniBatchKMeans\n"
   ]
  },
  {
   "cell_type": "code",
   "execution_count": 14,
   "metadata": {},
   "outputs": [],
   "source": [
    "def load_and_preprocess_image(image_path):\n",
    "    sub_image = gdal.Open(image_path)\n",
    "    NDVI = sub_image.GetRasterBand(1)\n",
    "    NDVI_array = NDVI.ReadAsArray()\n",
    "    return np.nan_to_num(NDVI_array, nan=0.01).flatten()\n",
    "\n",
    "def load_images_from_folder(folder):\n",
    "    all_pixels = []\n",
    "    image_shapes = []\n",
    "    for filename in os.listdir(folder):\n",
    "        if filename.endswith(\".tif\"):\n",
    "            img_path = os.path.join(folder, filename)\n",
    "            pixels = load_and_preprocess_image(img_path)\n",
    "            all_pixels.append(pixels)\n",
    "            image_shapes.append(gdal.Open(img_path).ReadAsArray().shape)\n",
    "    return np.concatenate(all_pixels), image_shapes\n",
    "\n",
    "\n",
    "def cluster_global_data(pixels, optimal_k):\n",
    "    # Use MiniBatchKMeans for clustering\n",
    "    kmeans = MiniBatchKMeans(n_clusters=optimal_k, random_state=0, batch_size=10000)  # Adjust the batch_size as needed\n",
    "    kmeans.fit(pixels.reshape(-1, 1))\n",
    "    return kmeans, kmeans.labels_\n",
    "\n",
    "\n",
    "def assign_clusters_to_images(global_labels, image_shapes):\n",
    "    start = 0\n",
    "    clustered_images = []\n",
    "    for shape in image_shapes:\n",
    "        size = shape[0] * shape[1]\n",
    "        labels = global_labels[start:start + size].reshape(shape)\n",
    "        clustered_images.append(labels)\n",
    "        start += size\n",
    "    return clustered_images\n",
    "\n",
    "def calculate_cluster_percentages(labels):\n",
    "    unique, counts = np.unique(labels, return_counts=True)\n",
    "    total_pixels = labels.size\n",
    "    percentages = {k: (count / total_pixels) * 100 for k, count in zip(unique, counts)}\n",
    "    return percentages\n",
    "\n",
    "def print_cluster_value_ranges(kmeans, pixels):\n",
    "    for i, center in enumerate(kmeans.cluster_centers_):\n",
    "        cluster_pixels = pixels[kmeans.labels_ == i]\n",
    "        print(f'Cluster {i}: range ({cluster_pixels.min():.3f} - {cluster_pixels.max():.3f})')\n"
   ]
  },
  {
   "cell_type": "code",
   "execution_count": 26,
   "metadata": {},
   "outputs": [],
   "source": [
    "# Path to your folder containing the images\n",
    "folder_path = 'C:\\\\Users\\\\Musae\\\\Documents\\\\GitHub-REPOs\\\\Senior-project-main\\\\Docs\\\\sub from all'\n"
   ]
  },
  {
   "cell_type": "code",
   "execution_count": 27,
   "metadata": {},
   "outputs": [
    {
     "name": "stderr",
     "output_type": "stream",
     "text": [
      "c:\\Users\\Musae\\AppData\\Local\\Programs\\Python\\Python311\\Lib\\site-packages\\sklearn\\cluster\\_kmeans.py:1934: FutureWarning: The default value of `n_init` will change from 3 to 'auto' in 1.4. Set the value of `n_init` explicitly to suppress the warning\n",
      "  super()._check_params_vs_input(X, default_n_init=3)\n"
     ]
    },
    {
     "name": "stdout",
     "output_type": "stream",
     "text": [
      "Cluster 0: 13.95%\n",
      "Cluster 1: 1.22%\n",
      "Cluster 2: 73.33%\n",
      "Cluster 3: 5.30%\n",
      "Cluster 4: 6.20%\n",
      "Cluster 0: range (0.029 - 0.049)\n",
      "Cluster 1: range (0.295 - 0.986)\n",
      "Cluster 2: range (0.049 - 0.112)\n",
      "Cluster 3: range (0.112 - 0.295)\n",
      "Cluster 4: range (-0.995 - 0.029)\n"
     ]
    }
   ],
   "source": [
    "# Load and concatenate pixels from all images\n",
    "all_pixels, image_shapes = load_images_from_folder(folder_path)\n",
    "\n",
    "# Optimal number of clusters\n",
    "optimal_k = 5\n",
    "\n",
    "# Perform global clustering\n",
    "kmeans, global_labels = cluster_global_data(all_pixels, optimal_k)\n",
    "\n",
    "# Calculate and print cluster percentages\n",
    "percentages = calculate_cluster_percentages(global_labels)\n",
    "for cluster, percentage in percentages.items():\n",
    "    print(f\"Cluster {cluster}: {percentage:.2f}%\")\n",
    "\n",
    "# Print cluster value ranges\n",
    "print_cluster_value_ranges(kmeans, all_pixels.reshape(-1, 1))\n",
    "\n",
    "# Assign clusters back to original images\n",
    "clustered_images = assign_clusters_to_images(global_labels, image_shapes)"
   ]
  },
  {
   "cell_type": "markdown",
   "metadata": {},
   "source": [
    "first 30 images\n",
    "\n",
    "Cluster 0: 1.04%\n",
    "Cluster 1: 68.01%\n",
    "Cluster 2: 27.39%\n",
    "Cluster 3: 3.55%\n",
    "\n",
    "Cluster 0: range (0.321 - 0.986)\n",
    "Cluster 1: range (0.054 - 0.133)\n",
    "Cluster 2: range (-0.995 - 0.054)\n",
    "Cluster 3: range (0.133 - 0.321)"
   ]
  },
  {
   "cell_type": "markdown",
   "metadata": {},
   "source": [
    "last 30 images\n",
    "\n",
    "Cluster 0: 48.41%\n",
    "Cluster 1: 2.95%\n",
    "Cluster 2: 47.74%\n",
    "Cluster 3: 0.90%\n",
    "Cluster 0: range (-0.590 - 0.055)\n",
    "Cluster 1: range (0.135 - 0.308)\n",
    "Cluster 2: range (0.055 - 0.135)\n",
    "Cluster 3: range (0.308 - 0.885)"
   ]
  },
  {
   "cell_type": "code",
   "execution_count": null,
   "metadata": {},
   "outputs": [],
   "source": []
  },
  {
   "cell_type": "markdown",
   "metadata": {},
   "source": [
    "normal - 2 images\n",
    "\n",
    "Cluster 0: 61.14%\n",
    "Cluster 1: 1.24%\n",
    "Cluster 2: 4.86%\n",
    "Cluster 3: 32.75%\n",
    "\n",
    "Cluster 0: range (0.064 - 0.143)\n",
    "Cluster 1: range (0.332 - 0.919)\n",
    "Cluster 2: range (0.143 - 0.332)\n",
    "Cluster 3: range (-0.860 - 0.064)\n",
    "\n",
    "MiniBatchKMeans - 2 images\n",
    "\n",
    "Cluster 0: 55.57%\n",
    "Cluster 1: 1.14%\n",
    "Cluster 2: 39.27%\n",
    "Cluster 3: 4.02%\n",
    "Cluster 0: range (0.068 - 0.154)\n",
    "Cluster 1: range (0.345 - 0.919)\n",
    "Cluster 2: range (-0.860 - 0.068)\n",
    "Cluster 3: range (0.154 - 0.345)\n",
    "\n"
   ]
  },
  {
   "cell_type": "code",
   "execution_count": null,
   "metadata": {},
   "outputs": [],
   "source": []
  },
  {
   "cell_type": "markdown",
   "metadata": {},
   "source": [
    "Cluster 0: 35.76%\n",
    "Cluster 1: 4.54%\n",
    "Cluster 2: 58.49%\n",
    "Cluster 3: 1.20%\n",
    "\n",
    "Cluster 0: range (-0.860 - 0.063)\n",
    "Cluster 1: range (0.143 - 0.330)\n",
    "Cluster 2: range (0.063 - 0.143)\n",
    "Cluster 3: range (0.330 - 0.919)"
   ]
  },
  {
   "cell_type": "code",
   "execution_count": null,
   "metadata": {},
   "outputs": [],
   "source": []
  },
  {
   "cell_type": "code",
   "execution_count": null,
   "metadata": {},
   "outputs": [],
   "source": []
  },
  {
   "cell_type": "code",
   "execution_count": null,
   "metadata": {},
   "outputs": [],
   "source": []
  },
  {
   "cell_type": "code",
   "execution_count": null,
   "metadata": {},
   "outputs": [],
   "source": []
  },
  {
   "cell_type": "code",
   "execution_count": null,
   "metadata": {},
   "outputs": [],
   "source": []
  }
 ],
 "metadata": {
  "kernelspec": {
   "display_name": "Python 3",
   "language": "python",
   "name": "python3"
  },
  "language_info": {
   "codemirror_mode": {
    "name": "ipython",
    "version": 3
   },
   "file_extension": ".py",
   "mimetype": "text/x-python",
   "name": "python",
   "nbconvert_exporter": "python",
   "pygments_lexer": "ipython3",
   "version": "3.11.4"
  },
  "orig_nbformat": 4
 },
 "nbformat": 4,
 "nbformat_minor": 2
}
