{
 "cells": [
  {
   "cell_type": "code",
   "execution_count": 1,
   "metadata": {},
   "outputs": [],
   "source": [
    "import pandas as pd\n",
    "import numpy as np\n"
   ]
  },
  {
   "cell_type": "code",
   "execution_count": 2,
   "metadata": {},
   "outputs": [],
   "source": [
    "# Replace 'path_to_your_csv' with the actual path to your CSV file\n",
    "csv_data = pd.read_csv(\"C:\\\\Users\\\\Musae\\\\Documents\\\\GitHub-REPOs\\\\Senior-project_Doc\\\\monthly_averages_formatted.csv\")\n"
   ]
  },
  {
   "cell_type": "code",
   "execution_count": 3,
   "metadata": {},
   "outputs": [],
   "source": [
    "import pandas as pd\n",
    "import numpy as np\n",
    "# Replace 'path_to_your_csv' with the actual path to your CSV file\n",
    "csv_data = pd.read_csv(\"C:\\\\Users\\\\Musae\\\\Documents\\\\GitHub-REPOs\\\\Senior-project_Doc\\\\monthly_averages_formatted.csv\")\n",
    "\n",
    "# Assuming your images are 6445x6345 pixels\n",
    "image_height = 6345\n",
    "image_width = 6445\n",
    "\n",
    "# Initialize lists to hold your climate images\n",
    "temperature_images = []\n",
    "precipitation_images = []\n",
    "\n",
    "# Loop through each row in your CSV data to create the images\n",
    "for index, row in csv_data.iterrows():\n",
    "    # Create an array filled with the 'Temp Average' value\n",
    "    temp_image = np.full((image_height, image_width), row['Temp Average'])\n",
    "    \n",
    "    # Create an array filled with the 'PRECTOTCORR Average' value\n",
    "    precip_image = np.full((image_height, image_width), row['PRECTOTCORR Average'])\n",
    "    \n",
    "    # Append the created images to the respective lists\n",
    "    temperature_images.append(temp_image)\n",
    "    precipitation_images.append(precip_image)\n"
   ]
  },
  {
   "cell_type": "code",
   "execution_count": 10,
   "metadata": {},
   "outputs": [
    {
     "name": "stdout",
     "output_type": "stream",
     "text": [
      "59\n"
     ]
    }
   ],
   "source": [
    "print(len())\n",
    "temperature_images"
   ]
  },
  {
   "cell_type": "code",
   "execution_count": 17,
   "metadata": {},
   "outputs": [
    {
     "name": "stdout",
     "output_type": "stream",
     "text": [
      "6345\n"
     ]
    }
   ],
   "source": [
    "print(len(temperature_images[0]))\n"
   ]
  },
  {
   "cell_type": "code",
   "execution_count": 18,
   "metadata": {},
   "outputs": [
    {
     "data": {
      "text/plain": [
       "(6345, 6445)"
      ]
     },
     "execution_count": 18,
     "metadata": {},
     "output_type": "execute_result"
    }
   ],
   "source": [
    "first_image_size = temperature_images[0].shape if temperature_images else \"List is empty\"\n",
    "first_image_size\n"
   ]
  },
  {
   "cell_type": "code",
   "execution_count": 16,
   "metadata": {},
   "outputs": [
    {
     "name": "stdout",
     "output_type": "stream",
     "text": [
      "[[17.54854839 17.54854839 17.54854839 ... 17.54854839 17.54854839\n",
      "  17.54854839]\n",
      " [17.54854839 17.54854839 17.54854839 ... 17.54854839 17.54854839\n",
      "  17.54854839]\n",
      " [17.54854839 17.54854839 17.54854839 ... 17.54854839 17.54854839\n",
      "  17.54854839]\n",
      " ...\n",
      " [17.54854839 17.54854839 17.54854839 ... 17.54854839 17.54854839\n",
      "  17.54854839]\n",
      " [17.54854839 17.54854839 17.54854839 ... 17.54854839 17.54854839\n",
      "  17.54854839]\n",
      " [17.54854839 17.54854839 17.54854839 ... 17.54854839 17.54854839\n",
      "  17.54854839]]\n"
     ]
    }
   ],
   "source": [
    "print(temperature_images[0])\n"
   ]
  }
 ],
 "metadata": {
  "kernelspec": {
   "display_name": "Python 3",
   "language": "python",
   "name": "python3"
  },
  "language_info": {
   "codemirror_mode": {
    "name": "ipython",
    "version": 3
   },
   "file_extension": ".py",
   "mimetype": "text/x-python",
   "name": "python",
   "nbconvert_exporter": "python",
   "pygments_lexer": "ipython3",
   "version": "3.11.4"
  },
  "orig_nbformat": 4
 },
 "nbformat": 4,
 "nbformat_minor": 2
}
