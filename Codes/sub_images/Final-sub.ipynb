{
 "cells": [
  {
   "cell_type": "code",
   "execution_count": 4,
   "metadata": {},
   "outputs": [],
   "source": [
    "import numpy as np\n",
    "import os\n",
    "from PIL import Image"
   ]
  },
  {
   "cell_type": "code",
   "execution_count": 5,
   "metadata": {},
   "outputs": [],
   "source": [
    "# Define the path where you want to save the sub-images\n",
    "output_dir = 'N:\\\\My Drive\\\\test_o_2'\n",
    "if not os.path.exists(output_dir):\n",
    "    os.makedirs(output_dir)"
   ]
  },
  {
   "cell_type": "code",
   "execution_count": 6,
   "metadata": {},
   "outputs": [],
   "source": [
    "\n",
    "# Path to your PNG file\n",
    "file_path = \"N:\\\\My Drive\\\\RGB_RUH_all_bands\\\\RGB_RUH-All-Bands_2018-12-15.png\"\n",
    "\n",
    "# Open the image file\n",
    "img = Image.open(file_path)"
   ]
  },
  {
   "cell_type": "code",
   "execution_count": 7,
   "metadata": {},
   "outputs": [],
   "source": [
    "# Function to divide the image into smaller parts\n",
    "def divide_image(image):\n",
    "    height, width = image.shape\n",
    "    part_width = width // 24\n",
    "    part_height = height // 24\n",
    "    parts = []\n",
    "    for i in range(24):\n",
    "        for j in range(24):\n",
    "            part = image[i * part_height : (i + 1) * part_height, j * part_width : (j + 1) * part_width]\n",
    "            parts.append(part)\n",
    "    return parts\n"
   ]
  },
  {
   "cell_type": "code",
   "execution_count": 8,
   "metadata": {},
   "outputs": [
    {
     "ename": "AttributeError",
     "evalue": "'PngImageFile' object has no attribute 'shape'",
     "output_type": "error",
     "traceback": [
      "\u001b[1;31m---------------------------------------------------------------------------\u001b[0m",
      "\u001b[1;31mAttributeError\u001b[0m                            Traceback (most recent call last)",
      "\u001b[1;32mc:\\Users\\Musae\\Documents\\GitHub-REPOs\\Vegetation-Cover-In-Riyadh\\Codes\\sub_images\\Final-sub.ipynb Cell 5\u001b[0m line \u001b[0;36m1\n\u001b[1;32m----> <a href='vscode-notebook-cell:/c%3A/Users/Musae/Documents/GitHub-REPOs/Vegetation-Cover-In-Riyadh/Codes/sub_images/Final-sub.ipynb#W1sZmlsZQ%3D%3D?line=0'>1</a>\u001b[0m img_parts \u001b[39m=\u001b[39m divide_image(img)\n\u001b[0;32m      <a href='vscode-notebook-cell:/c%3A/Users/Musae/Documents/GitHub-REPOs/Vegetation-Cover-In-Riyadh/Codes/sub_images/Final-sub.ipynb#W1sZmlsZQ%3D%3D?line=2'>3</a>\u001b[0m \u001b[39m# Save each part as a NumPy array\u001b[39;00m\n\u001b[0;32m      <a href='vscode-notebook-cell:/c%3A/Users/Musae/Documents/GitHub-REPOs/Vegetation-Cover-In-Riyadh/Codes/sub_images/Final-sub.ipynb#W1sZmlsZQ%3D%3D?line=3'>4</a>\u001b[0m \u001b[39mfor\u001b[39;00m index, img_part \u001b[39min\u001b[39;00m \u001b[39menumerate\u001b[39m(img_parts):\n\u001b[0;32m      <a href='vscode-notebook-cell:/c%3A/Users/Musae/Documents/GitHub-REPOs/Vegetation-Cover-In-Riyadh/Codes/sub_images/Final-sub.ipynb#W1sZmlsZQ%3D%3D?line=4'>5</a>\u001b[0m     \u001b[39m# Create a filename for each sub-image\u001b[39;00m\n",
      "\u001b[1;32mc:\\Users\\Musae\\Documents\\GitHub-REPOs\\Vegetation-Cover-In-Riyadh\\Codes\\sub_images\\Final-sub.ipynb Cell 5\u001b[0m line \u001b[0;36m3\n\u001b[0;32m      <a href='vscode-notebook-cell:/c%3A/Users/Musae/Documents/GitHub-REPOs/Vegetation-Cover-In-Riyadh/Codes/sub_images/Final-sub.ipynb#W1sZmlsZQ%3D%3D?line=1'>2</a>\u001b[0m \u001b[39mdef\u001b[39;00m \u001b[39mdivide_image\u001b[39m(image):\n\u001b[1;32m----> <a href='vscode-notebook-cell:/c%3A/Users/Musae/Documents/GitHub-REPOs/Vegetation-Cover-In-Riyadh/Codes/sub_images/Final-sub.ipynb#W1sZmlsZQ%3D%3D?line=2'>3</a>\u001b[0m     height, width \u001b[39m=\u001b[39m image\u001b[39m.\u001b[39;49mshape\n\u001b[0;32m      <a href='vscode-notebook-cell:/c%3A/Users/Musae/Documents/GitHub-REPOs/Vegetation-Cover-In-Riyadh/Codes/sub_images/Final-sub.ipynb#W1sZmlsZQ%3D%3D?line=3'>4</a>\u001b[0m     part_width \u001b[39m=\u001b[39m width \u001b[39m/\u001b[39m\u001b[39m/\u001b[39m \u001b[39m24\u001b[39m\n\u001b[0;32m      <a href='vscode-notebook-cell:/c%3A/Users/Musae/Documents/GitHub-REPOs/Vegetation-Cover-In-Riyadh/Codes/sub_images/Final-sub.ipynb#W1sZmlsZQ%3D%3D?line=4'>5</a>\u001b[0m     part_height \u001b[39m=\u001b[39m height \u001b[39m/\u001b[39m\u001b[39m/\u001b[39m \u001b[39m24\u001b[39m\n",
      "\u001b[1;31mAttributeError\u001b[0m: 'PngImageFile' object has no attribute 'shape'"
     ]
    }
   ],
   "source": [
    "\n",
    "img_parts = divide_image(img)\n",
    "\n",
    "# Save each part as a NumPy array\n",
    "for index, img_part in enumerate(img_parts):\n",
    "    # Create a filename for each sub-image\n",
    "    filename = f\"sub_{index + 1}.png\"\n",
    "    filepath = os.path.join(output_dir, filename)\n",
    "    np.save(filepath, img_part)\n",
    "\n",
    "print(\"All sub-images have been saved successfully as png arrays.\")\n"
   ]
  },
  {
   "cell_type": "code",
   "execution_count": 3,
   "metadata": {},
   "outputs": [
    {
     "name": "stdout",
     "output_type": "stream",
     "text": [
      "All sub-images are saved in N:\\My Drive\\test_o_2.\n"
     ]
    }
   ],
   "source": [
    "import os\n",
    "from PIL import Image\n",
    "import numpy as np\n",
    "\n",
    "# Function to divide the image into smaller parts\n",
    "def divide_image(image):\n",
    "    height, width = image.shape[:2]\n",
    "    part_width = width // 24\n",
    "    part_height = height // 24\n",
    "    parts = []\n",
    "    for i in range(24):\n",
    "        for j in range(24):\n",
    "            part = image[i * part_height : (i + 1) * part_height, j * part_width : (j + 1) * part_width]\n",
    "            parts.append(part)\n",
    "    return parts\n",
    "\n",
    "# Load your image\n",
    "image_path = \"N:\\\\My Drive\\\\RGB_RUH_all_bands\\\\RGB_RUH-All-Bands_2018-12-15.png\"\n",
    "original_image = Image.open(image_path)\n",
    "original_name = os.path.splitext(os.path.basename(image_path))[0]\n",
    "\n",
    "# Convert image to numpy array\n",
    "image_np = np.array(original_image)\n",
    "\n",
    "# Ensure the image dimensions are divisible by 256\n",
    "sliced = image_np[:6144, :6144]\n",
    "\n",
    "# Divide the image\n",
    "img_parts = divide_image(sliced)\n",
    "\n",
    "# Create a directory to save sub-images\n",
    "output_folder = 'N:\\\\My Drive\\\\test_o_2'\n",
    "if not os.path.exists(output_folder):\n",
    "    os.makedirs(output_folder)\n",
    "\n",
    "# Save each part\n",
    "for index, part in enumerate(img_parts):\n",
    "    part_image = Image.fromarray(part)\n",
    "    part_image.save(f\"{output_folder}/{original_name}_sub_{index+1}.png\")\n",
    "\n",
    "print(f\"All sub-images are saved in {output_folder}.\")\n"
   ]
  },
  {
   "cell_type": "code",
   "execution_count": null,
   "metadata": {},
   "outputs": [],
   "source": [
    "img_file = \"N:\\\\My Drive\\\\RGB_RUH_all_bands\\\\RGB_RUH-All-Bands_2018-12-15.png\"\n",
    "output_dir = 'N:\\\\My Drive\\\\test_o_2'"
   ]
  },
  {
   "cell_type": "code",
   "execution_count": 4,
   "metadata": {},
   "outputs": [
    {
     "name": "stdout",
     "output_type": "stream",
     "text": [
      "All sub-images are saved in N:\\My Drive\\Data\\RUH.\n"
     ]
    }
   ],
   "source": [
    "import os\n",
    "from PIL import Image\n",
    "import numpy as np\n",
    "\n",
    "# Function to divide the image into smaller parts\n",
    "def divide_image(image):\n",
    "    height, width = image.shape[:2]\n",
    "    part_width = width // 24\n",
    "    part_height = height // 24\n",
    "    parts = []\n",
    "    for i in range(24):\n",
    "        for j in range(24):\n",
    "            part = image[i * part_height : (i + 1) * part_height, j * part_width : (j + 1) * part_width]\n",
    "            parts.append(part)\n",
    "    return parts\n",
    "\n",
    "# Function to process all images in a directory\n",
    "def process_images(folder_path, output_folder):\n",
    "    # Create a directory to save sub-images if it doesn't exist\n",
    "    if not os.path.exists(output_folder):\n",
    "        os.makedirs(output_folder)\n",
    "\n",
    "    # Process each image in the directory\n",
    "    for filename in os.listdir(folder_path):\n",
    "        if filename.lower().endswith(('.png')):\n",
    "            image_path = os.path.join(folder_path, filename)\n",
    "            original_image = Image.open(image_path)\n",
    "            original_name = os.path.splitext(filename)[0]\n",
    "\n",
    "            # Convert image to numpy array\n",
    "            image_np = np.array(original_image)\n",
    "\n",
    "            # Ensure the image dimensions are divisible by 256\n",
    "            sliced = image_np[:6144, :6144]\n",
    "\n",
    "            # Divide the image\n",
    "            img_parts = divide_image(sliced)\\\n",
    "            # Save each part\n",
    "            for index, part in enumerate(img_parts):\n",
    "                part_image = Image.fromarray(part)\n",
    "                part_image.save(f\"{output_folder}/{original_name}_sub_{index+1}.png\")\n",
    "\n",
    "    print(f\"All sub-images are saved in {output_folder}.\")\n",
    "\n",
    "# Set the folder paths\n",
    "input_folder = 'N:\\\\My Drive\\\\RGB_RUH_all_bands'\n",
    "output_folder = 'N:\\\\My Drive\\\\Data\\\\RUH'\n",
    "\n",
    "# Process all images in the input folder\n",
    "process_images(input_folder, output_folder)\n"
   ]
  }
 ],
 "metadata": {
  "kernelspec": {
   "display_name": "Python 3",
   "language": "python",
   "name": "python3"
  },
  "language_info": {
   "codemirror_mode": {
    "name": "ipython",
    "version": 3
   },
   "file_extension": ".py",
   "mimetype": "text/x-python",
   "name": "python",
   "nbconvert_exporter": "python",
   "pygments_lexer": "ipython3",
   "version": "3.11.4"
  },
  "orig_nbformat": 4
 },
 "nbformat": 4,
 "nbformat_minor": 2
}
