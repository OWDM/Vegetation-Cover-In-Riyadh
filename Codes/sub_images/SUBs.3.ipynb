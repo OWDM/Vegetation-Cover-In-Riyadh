{
 "cells": [
  {
   "cell_type": "code",
   "execution_count": 10,
   "metadata": {},
   "outputs": [
    {
     "name": "stdout",
     "output_type": "stream",
     "text": [
      "All sub-images have been saved successfully as NumPy arrays.\n"
     ]
    }
   ],
   "source": [
    "from osgeo import gdal\n",
    "import numpy as np\n",
    "import os\n",
    "\n",
    "# Define the path where you want to save the sub-images\n",
    "output_dir = \"G:\\\\My Drive\\\\RUH_One_sub-4\"\n",
    "if not os.path.exists(output_dir):\n",
    "    os.makedirs(output_dir)\n",
    "\n",
    "# Open the image\n",
    "img_path = gdal.Open(\"G:\\\\My Drive\\\\RUH_all_bands\\\\RUH-All-Bands_2018-12-15.tif\")\n",
    "NDVI = img_path.GetRasterBand(4)\n",
    "ndvi = NDVI.ReadAsArray()\n",
    "\n",
    "# Function to divide the image into smaller parts\n",
    "def divide_image(image):\n",
    "    height, width = image.shape\n",
    "    part_width = width // 24\n",
    "    part_height = height // 24\n",
    "    parts = []\n",
    "    for i in range(24):\n",
    "        for j in range(24):\n",
    "            part = image[i * part_height : (i + 1) * part_height, j * part_width : (j + 1) * part_width]\n",
    "            parts.append(part)\n",
    "    return parts\n",
    "\n",
    "# Slice the array to fit the division evenly\n",
    "sliced_array = ndvi[:6144, :6144]\n",
    "img_parts = divide_image(sliced_array)\n",
    "\n",
    "# Save each part as a NumPy array\n",
    "for index, img_part in enumerate(img_parts):\n",
    "    # Create a filename for each sub-image\n",
    "    filename = f\"sub_image_{index + 1}.npy\"\n",
    "    filepath = os.path.join(output_dir, filename)\n",
    "    np.save(filepath, img_part)\n",
    "\n",
    "print(\"All sub-images have been saved successfully as NumPy arrays.\")\n"
   ]
  },
  {
   "cell_type": "code",
   "execution_count": 1,
   "metadata": {},
   "outputs": [
    {
     "name": "stderr",
     "output_type": "stream",
     "text": [
      "c:\\Users\\Musae\\AppData\\Local\\Programs\\Python\\Python311\\Lib\\site-packages\\osgeo\\gdal.py:312: FutureWarning: Neither gdal.UseExceptions() nor gdal.DontUseExceptions() has been explicitly called. In GDAL 4.0, exceptions will be enabled by default.\n",
      "  warnings.warn(\n"
     ]
    }
   ],
   "source": [
    "from osgeo import gdal\n",
    "import numpy as np\n",
    "import os\n",
    "\n",
    "# Define the path where you want to save the sub-images\n",
    "output_dir =  \"G:\\\\My Drive\\\\RUH_One_sub-8\"\n",
    "if not os.path.exists(output_dir):\n",
    "    os.makedirs(output_dir)\n",
    "\n",
    "# Open the image\n",
    "img_path = gdal.Open(\"G:\\\\My Drive\\\\RUH_all_bands\\\\RUH-All-Bands_2018-12-15.tif\")\n",
    "NDVI = img_path.GetRasterBand(8)\n",
    "ndvi = NDVI.ReadAsArray()\n",
    "\n",
    "# Function to divide the image into smaller parts\n",
    "def divide_image(image):\n",
    "    height, width = image.shape\n",
    "    part_width = width // 24\n",
    "    part_height = height // 24\n",
    "    parts = []\n",
    "    for i in range(24):\n",
    "        for j in range(24):\n",
    "            part = image[i * part_height : (i + 1) * part_height, j * part_width : (j + 1) * part_width]\n",
    "            parts.append(part)\n",
    "    return parts\n",
    "\n",
    "# Slice the array to fit the division evenly\n",
    "sliced_array = ndvi[:6144, :6144]\n",
    "img_parts = divide_image(sliced_array)\n",
    "\n",
    "# Save each part as a TIFF file\n",
    "driver = gdal.GetDriverByName('GTiff')\n",
    "for index, img_part in enumerate(img_parts):\n",
    "    # Create a filename for each sub-image\n",
    "    filename = f\"sub_image_{index + 1}.tif\"\n",
    "    filepath = os.path.join(output_dir, filename)\n",
    "\n",
    "    # Create a new dataset for the output\n",
    "    dst_ds = driver.Create(filepath, img_part.shape[1], img_part.shape[0], 1, gdal.GDT_Float32)\n",
    "    dst_ds.GetRasterBand(1).WriteArray(img_part)  # Write the array to the raster band\n",
    "    dst_ds.FlushCache()  # Write to disk\n",
    "    dst_ds = None  # Close the file\n",
    "\n",
    "print(\"All sub-images have been saved successfully as TIFF files.\")\n"
   ]
  },
  {
   "cell_type": "code",
   "execution_count": null,
   "metadata": {},
   "outputs": [],
   "source": []
  }
 ],
 "metadata": {
  "kernelspec": {
   "display_name": "Python 3",
   "language": "python",
   "name": "python3"
  },
  "language_info": {
   "codemirror_mode": {
    "name": "ipython",
    "version": 3
   },
   "file_extension": ".py",
   "mimetype": "text/x-python",
   "name": "python",
   "nbconvert_exporter": "python",
   "pygments_lexer": "ipython3",
   "version": "3.11.4"
  },
  "orig_nbformat": 4
 },
 "nbformat": 4,
 "nbformat_minor": 2
}
