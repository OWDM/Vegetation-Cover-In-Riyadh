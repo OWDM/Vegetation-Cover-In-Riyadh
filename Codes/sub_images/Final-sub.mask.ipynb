{
 "cells": [
  {
   "cell_type": "code",
   "execution_count": 1,
   "metadata": {},
   "outputs": [
    {
     "name": "stdout",
     "output_type": "stream",
     "text": [
      "All sub-images are saved in N:\\My Drive\\Data\\Mask.\n"
     ]
    }
   ],
   "source": [
    "import os\n",
    "from PIL import Image\n",
    "import numpy as np\n",
    "\n",
    "# Function to divide the image into smaller parts\n",
    "def divide_image(image):\n",
    "    height, width = image.shape[:2]\n",
    "    part_width = width // 24\n",
    "    part_height = height // 24\n",
    "    parts = []\n",
    "    for i in range(24):\n",
    "        for j in range(24):\n",
    "            part = image[i * part_height : (i + 1) * part_height, j * part_width : (j + 1) * part_width]\n",
    "            parts.append(part)\n",
    "    return parts\n",
    "\n",
    "# Function to process all images in a directory\n",
    "def process_images(folder_path, output_folder):\n",
    "    # Create a directory to save sub-images if it doesn't exist\n",
    "    if not os.path.exists(output_folder):\n",
    "        os.makedirs(output_folder)\n",
    "\n",
    "    # Process each image in the directory\n",
    "    for filename in os.listdir(folder_path):\n",
    "        if filename.lower().endswith(('.png')):\n",
    "            image_path = os.path.join(folder_path, filename)\n",
    "            original_image = Image.open(image_path)\n",
    "            original_name = os.path.splitext(filename)[0]\n",
    "\n",
    "            # Convert image to numpy array\n",
    "            image_np = np.array(original_image)\n",
    "\n",
    "\n",
    "            # Divide the image\n",
    "            img_parts = divide_image(image_np)\n",
    "\n",
    "            # Save each part\n",
    "            for index, part in enumerate(img_parts):\n",
    "                part_image = Image.fromarray(part)\n",
    "                part_image.save(f\"{output_folder}/{original_name}_sub_{index+1}.png\")\n",
    "\n",
    "    print(f\"All sub-images are saved in {output_folder}.\")\n",
    "\n",
    "# Set the folder paths\n",
    "input_folder = 'N:\\\\My Drive\\\\MASK_NDVI_RUH'\n",
    "output_folder = 'N:\\\\My Drive\\\\Data\\\\Mask'\n",
    "\n",
    "# Process all images in the input folder\n",
    "process_images(input_folder, output_folder)\n"
   ]
  }
 ],
 "metadata": {
  "kernelspec": {
   "display_name": "Python 3",
   "language": "python",
   "name": "python3"
  },
  "language_info": {
   "codemirror_mode": {
    "name": "ipython",
    "version": 3
   },
   "file_extension": ".py",
   "mimetype": "text/x-python",
   "name": "python",
   "nbconvert_exporter": "python",
   "pygments_lexer": "ipython3",
   "version": "3.11.4"
  },
  "orig_nbformat": 4
 },
 "nbformat": 4,
 "nbformat_minor": 2
}
