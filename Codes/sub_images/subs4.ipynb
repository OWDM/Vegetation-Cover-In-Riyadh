{
 "cells": [
  {
   "cell_type": "code",
   "execution_count": 4,
   "metadata": {},
   "outputs": [],
   "source": [
    "from osgeo import gdal\n",
    "import numpy as np\n",
    "import os\n",
    "from PIL import Image"
   ]
  },
  {
   "cell_type": "code",
   "execution_count": 5,
   "metadata": {},
   "outputs": [],
   "source": [
    "base_path = \"N:\\\\My Drive\\\\test\"\n",
    "output_dir = \"N:\\\\My Drive\\\\test_o\""
   ]
  },
  {
   "cell_type": "code",
   "execution_count": 4,
   "metadata": {},
   "outputs": [
    {
     "ename": "KeyboardInterrupt",
     "evalue": "",
     "output_type": "error",
     "traceback": [
      "\u001b[1;31m---------------------------------------------------------------------------\u001b[0m",
      "\u001b[1;31mAttributeError\u001b[0m                            Traceback (most recent call last)",
      "File \u001b[1;32mc:\\Users\\Musae\\AppData\\Local\\Programs\\Python\\Python311\\Lib\\site-packages\\PIL\\ImageFile.py:515\u001b[0m, in \u001b[0;36m_save\u001b[1;34m(im, fp, tile, bufsize)\u001b[0m\n\u001b[0;32m    514\u001b[0m \u001b[39mtry\u001b[39;00m:\n\u001b[1;32m--> 515\u001b[0m     fh \u001b[39m=\u001b[39m fp\u001b[39m.\u001b[39;49mfileno()\n\u001b[0;32m    516\u001b[0m     fp\u001b[39m.\u001b[39mflush()\n",
      "\u001b[1;31mAttributeError\u001b[0m: '_idat' object has no attribute 'fileno'",
      "\nDuring handling of the above exception, another exception occurred:\n",
      "\u001b[1;31mKeyboardInterrupt\u001b[0m                         Traceback (most recent call last)",
      "\u001b[1;32mc:\\Users\\Musae\\Documents\\GitHub-REPOs\\Vegetation-Cover-In-Riyadh\\Codes\\sub_images\\subs4.ipynb Cell 3\u001b[0m line \u001b[0;36m6\n\u001b[0;32m     <a href='vscode-notebook-cell:/c%3A/Users/Musae/Documents/GitHub-REPOs/Vegetation-Cover-In-Riyadh/Codes/sub_images/subs4.ipynb#W5sZmlsZQ%3D%3D?line=59'>60</a>\u001b[0m     \u001b[39m# Divide and save images\u001b[39;00m\n\u001b[0;32m     <a href='vscode-notebook-cell:/c%3A/Users/Musae/Documents/GitHub-REPOs/Vegetation-Cover-In-Riyadh/Codes/sub_images/subs4.ipynb#W5sZmlsZQ%3D%3D?line=60'>61</a>\u001b[0m     base_filename \u001b[39m=\u001b[39m os\u001b[39m.\u001b[39mpath\u001b[39m.\u001b[39msplitext(img_file)[\u001b[39m0\u001b[39m]\n\u001b[1;32m---> <a href='vscode-notebook-cell:/c%3A/Users/Musae/Documents/GitHub-REPOs/Vegetation-Cover-In-Riyadh/Codes/sub_images/subs4.ipynb#W5sZmlsZQ%3D%3D?line=61'>62</a>\u001b[0m     divide_image(sliced_rgb, output_dir, base_filename)\n\u001b[0;32m     <a href='vscode-notebook-cell:/c%3A/Users/Musae/Documents/GitHub-REPOs/Vegetation-Cover-In-Riyadh/Codes/sub_images/subs4.ipynb#W5sZmlsZQ%3D%3D?line=63'>64</a>\u001b[0m \u001b[39mprint\u001b[39m(\u001b[39m\"\u001b[39m\u001b[39mAll images processed and sub-images saved.\u001b[39m\u001b[39m\"\u001b[39m)\n",
      "\u001b[1;32mc:\\Users\\Musae\\Documents\\GitHub-REPOs\\Vegetation-Cover-In-Riyadh\\Codes\\sub_images\\subs4.ipynb Cell 3\u001b[0m line \u001b[0;36m3\n\u001b[0;32m     <a href='vscode-notebook-cell:/c%3A/Users/Musae/Documents/GitHub-REPOs/Vegetation-Cover-In-Riyadh/Codes/sub_images/subs4.ipynb#W5sZmlsZQ%3D%3D?line=30'>31</a>\u001b[0m part_image \u001b[39m=\u001b[39m Image\u001b[39m.\u001b[39mfromarray(part)\n\u001b[0;32m     <a href='vscode-notebook-cell:/c%3A/Users/Musae/Documents/GitHub-REPOs/Vegetation-Cover-In-Riyadh/Codes/sub_images/subs4.ipynb#W5sZmlsZQ%3D%3D?line=31'>32</a>\u001b[0m part_filename \u001b[39m=\u001b[39m \u001b[39mf\u001b[39m\u001b[39m\"\u001b[39m\u001b[39m{\u001b[39;00mbase_filename\u001b[39m}\u001b[39;00m\u001b[39m_sub_image_\u001b[39m\u001b[39m{\u001b[39;00mi\u001b[39m*\u001b[39m\u001b[39m24\u001b[39m\u001b[39m+\u001b[39mj\u001b[39m+\u001b[39m\u001b[39m1\u001b[39m\u001b[39m}\u001b[39;00m\u001b[39m.png\u001b[39m\u001b[39m\"\u001b[39m\n\u001b[1;32m---> <a href='vscode-notebook-cell:/c%3A/Users/Musae/Documents/GitHub-REPOs/Vegetation-Cover-In-Riyadh/Codes/sub_images/subs4.ipynb#W5sZmlsZQ%3D%3D?line=32'>33</a>\u001b[0m part_image\u001b[39m.\u001b[39;49msave(os\u001b[39m.\u001b[39;49mpath\u001b[39m.\u001b[39;49mjoin(output_dir, part_filename))\n",
      "File \u001b[1;32mc:\\Users\\Musae\\AppData\\Local\\Programs\\Python\\Python311\\Lib\\site-packages\\PIL\\Image.py:2413\u001b[0m, in \u001b[0;36mImage.save\u001b[1;34m(self, fp, format, **params)\u001b[0m\n\u001b[0;32m   2410\u001b[0m         fp \u001b[39m=\u001b[39m builtins\u001b[39m.\u001b[39mopen(filename, \u001b[39m\"\u001b[39m\u001b[39mw+b\u001b[39m\u001b[39m\"\u001b[39m)\n\u001b[0;32m   2412\u001b[0m \u001b[39mtry\u001b[39;00m:\n\u001b[1;32m-> 2413\u001b[0m     save_handler(\u001b[39mself\u001b[39;49m, fp, filename)\n\u001b[0;32m   2414\u001b[0m \u001b[39mexcept\u001b[39;00m \u001b[39mException\u001b[39;00m:\n\u001b[0;32m   2415\u001b[0m     \u001b[39mif\u001b[39;00m open_fp:\n",
      "File \u001b[1;32mc:\\Users\\Musae\\AppData\\Local\\Programs\\Python\\Python311\\Lib\\site-packages\\PIL\\PngImagePlugin.py:1398\u001b[0m, in \u001b[0;36m_save\u001b[1;34m(im, fp, filename, chunk, save_all)\u001b[0m\n\u001b[0;32m   1396\u001b[0m     _write_multiple_frames(im, fp, chunk, rawmode, default_image, append_images)\n\u001b[0;32m   1397\u001b[0m \u001b[39melse\u001b[39;00m:\n\u001b[1;32m-> 1398\u001b[0m     ImageFile\u001b[39m.\u001b[39;49m_save(im, _idat(fp, chunk), [(\u001b[39m\"\u001b[39;49m\u001b[39mzip\u001b[39;49m\u001b[39m\"\u001b[39;49m, (\u001b[39m0\u001b[39;49m, \u001b[39m0\u001b[39;49m) \u001b[39m+\u001b[39;49m im\u001b[39m.\u001b[39;49msize, \u001b[39m0\u001b[39;49m, rawmode)])\n\u001b[0;32m   1400\u001b[0m \u001b[39mif\u001b[39;00m info:\n\u001b[0;32m   1401\u001b[0m     \u001b[39mfor\u001b[39;00m info_chunk \u001b[39min\u001b[39;00m info\u001b[39m.\u001b[39mchunks:\n",
      "File \u001b[1;32mc:\\Users\\Musae\\AppData\\Local\\Programs\\Python\\Python311\\Lib\\site-packages\\PIL\\ImageFile.py:519\u001b[0m, in \u001b[0;36m_save\u001b[1;34m(im, fp, tile, bufsize)\u001b[0m\n\u001b[0;32m    517\u001b[0m     _encode_tile(im, fp, tile, bufsize, fh)\n\u001b[0;32m    518\u001b[0m \u001b[39mexcept\u001b[39;00m (\u001b[39mAttributeError\u001b[39;00m, io\u001b[39m.\u001b[39mUnsupportedOperation) \u001b[39mas\u001b[39;00m exc:\n\u001b[1;32m--> 519\u001b[0m     _encode_tile(im, fp, tile, bufsize, \u001b[39mNone\u001b[39;49;00m, exc)\n\u001b[0;32m    520\u001b[0m \u001b[39mif\u001b[39;00m \u001b[39mhasattr\u001b[39m(fp, \u001b[39m\"\u001b[39m\u001b[39mflush\u001b[39m\u001b[39m\"\u001b[39m):\n\u001b[0;32m    521\u001b[0m     fp\u001b[39m.\u001b[39mflush()\n",
      "File \u001b[1;32mc:\\Users\\Musae\\AppData\\Local\\Programs\\Python\\Python311\\Lib\\site-packages\\PIL\\ImageFile.py:538\u001b[0m, in \u001b[0;36m_encode_tile\u001b[1;34m(im, fp, tile, bufsize, fh, exc)\u001b[0m\n\u001b[0;32m    535\u001b[0m \u001b[39mif\u001b[39;00m exc:\n\u001b[0;32m    536\u001b[0m     \u001b[39m# compress to Python file-compatible object\u001b[39;00m\n\u001b[0;32m    537\u001b[0m     \u001b[39mwhile\u001b[39;00m \u001b[39mTrue\u001b[39;00m:\n\u001b[1;32m--> 538\u001b[0m         errcode, data \u001b[39m=\u001b[39m encoder\u001b[39m.\u001b[39;49mencode(bufsize)[\u001b[39m1\u001b[39m:]\n\u001b[0;32m    539\u001b[0m         fp\u001b[39m.\u001b[39mwrite(data)\n\u001b[0;32m    540\u001b[0m         \u001b[39mif\u001b[39;00m errcode:\n",
      "\u001b[1;31mKeyboardInterrupt\u001b[0m: "
     ]
    }
   ],
   "source": [
    "from osgeo import gdal\n",
    "import numpy as np\n",
    "import os\n",
    "from PIL import Image\n",
    "\n",
    "# Define the input and output directories\n",
    "input_dir = \"N:\\\\My Drive\\\\RUH_all_bands\"\n",
    "output_dir = \"N:\\\\My Drive\\\\Riyadh_Dataset\"\n",
    "\n",
    "\n",
    "# Create the output directory if it does not exist\n",
    "if not os.path.exists(output_dir):\n",
    "    os.makedirs(output_dir)\n",
    "\n",
    "# List all tif files in the input directory\n",
    "image_files = [f for f in os.listdir(input_dir) if f.endswith('.tif')]\n",
    "\n",
    "# Function to normalize arrays\n",
    "def normalize(array):\n",
    "    array_min, array_max = array.min(), array.max()\n",
    "    return (array - array_min) / (array_max - array_min) if array_max - array_min > 0 else array\n",
    "\n",
    "# Function to divide the image into smaller parts\n",
    "def divide_image(image, output_dir, base_filename):\n",
    "    height, width, _ = image.shape\n",
    "    part_width = width // 24\n",
    "    part_height = height // 24\n",
    "    for i in range(24):\n",
    "        for j in range(24):\n",
    "            part = image[i * part_height:(i + 1) * part_height, j * part_width:(j + 1) * part_width]\n",
    "            part_image = Image.fromarray(part)\n",
    "            part_filename = f\"{base_filename}_sub_image_{i*24+j+1}.png\"\n",
    "            part_image.save(os.path.join(output_dir, part_filename))\n",
    "\n",
    "# Process each image file\n",
    "for img_file in image_files:\n",
    "    dataset = gdal.Open(os.path.join(input_dir, img_file))\n",
    "\n",
    "    # Read RGB bands (assuming bands 4, 3, 2 are RGB)\n",
    "    red = dataset.GetRasterBand(4).ReadAsArray().astype(float)\n",
    "    green = dataset.GetRasterBand(3).ReadAsArray().astype(float)\n",
    "    blue = dataset.GetRasterBand(2).ReadAsArray().astype(float)\n",
    "\n",
    "    # Handle NaN and infinite values\n",
    "    red[np.isnan(red) | np.isinf(red)] = 0\n",
    "    green[np.isnan(green) | np.isinf(green)] = 0\n",
    "    blue[np.isnan(blue) | np.isinf(blue)] = 0\n",
    "\n",
    "    # Normalize and convert to 8-bit\n",
    "    red_8bit = (normalize(red) * 255).astype(np.uint8)\n",
    "    green_8bit = (normalize(green) * 255).astype(np.uint8)\n",
    "    blue_8bit = (normalize(blue) * 255).astype(np.uint8)\n",
    "\n",
    "    # Stack to create RGB image\n",
    "    rgb_8bit = np.stack((red_8bit, green_8bit, blue_8bit), axis=2)\n",
    "\n",
    "    # Slice the array to fit the division evenly, assuming 6144x6144 is a valid size for all images\n",
    "    sliced_rgb = rgb_8bit[:6144, :6144]\n",
    "\n",
    "    # Divide and save images\n",
    "    base_filename = os.path.splitext(img_file)[0]\n",
    "    divide_image(sliced_rgb, output_dir, base_filename)\n",
    "\n",
    "print(\"All images processed and sub-images saved.\")\n"
   ]
  }
 ],
 "metadata": {
  "kernelspec": {
   "display_name": "Python 3",
   "language": "python",
   "name": "python3"
  },
  "language_info": {
   "codemirror_mode": {
    "name": "ipython",
    "version": 3
   },
   "file_extension": ".py",
   "mimetype": "text/x-python",
   "name": "python",
   "nbconvert_exporter": "python",
   "pygments_lexer": "ipython3",
   "version": "3.11.4"
  },
  "orig_nbformat": 4
 },
 "nbformat": 4,
 "nbformat_minor": 2
}
