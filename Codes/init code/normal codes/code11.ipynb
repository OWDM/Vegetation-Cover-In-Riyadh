{
 "cells": [
  {
   "cell_type": "code",
   "execution_count": 1,
   "metadata": {},
   "outputs": [],
   "source": [
    "import numpy as np \n"
   ]
  },
  {
   "cell_type": "code",
   "execution_count": 2,
   "metadata": {},
   "outputs": [],
   "source": [
    "sub_image2 = image_path = \"C:\\\\Users\\\\Musae\\\\Documents\\\\GitHub-REPOs\\\\Senior-project_Doc\\\\Docs\\\\Array\\\\NDVI-Reduced\\\\reduced_NDVI_RUH-B4-B8_2018-12-15.npy\"\n",
    "# Load the sub-image as a NumPy array\n",
    "sub_image2 = np.load(sub_image2)"
   ]
  },
  {
   "cell_type": "code",
   "execution_count": 3,
   "metadata": {},
   "outputs": [
    {
     "data": {
      "text/plain": [
       "array([0.10969175, 0.1027027 , 0.0938575 , ..., 0.08483425, 0.07336449,\n",
       "       0.07336449], dtype=float32)"
      ]
     },
     "execution_count": 3,
     "metadata": {},
     "output_type": "execute_result"
    }
   ],
   "source": [
    "sub_image2"
   ]
  },
  {
   "cell_type": "code",
   "execution_count": 4,
   "metadata": {},
   "outputs": [
    {
     "name": "stdout",
     "output_type": "stream",
     "text": [
      "Size of the array: 9526789\n"
     ]
    }
   ],
   "source": [
    "array_size = len(sub_image2)\n",
    "\n",
    "# Print the size of the array\n",
    "print(\"Size of the array:\", array_size)"
   ]
  },
  {
   "cell_type": "code",
   "execution_count": 8,
   "metadata": {},
   "outputs": [],
   "source": [
    "import matplotlib.pyplot as plt\n",
    "import matplotlib as mpl"
   ]
  },
  {
   "cell_type": "code",
   "execution_count": 11,
   "metadata": {},
   "outputs": [
    {
     "data": {
      "image/png": "[encoded data removed]",
      "text/plain": [
       "<Figure size 640x480 with 1 Axes>"
      ]
     },
     "metadata": {},
     "output_type": "display_data"
    }
   ],
   "source": [
    "# Plotting the histogram\n",
    "plt.hist(sub_image2, bins=10, range=(0,1))  # 10 bins for the range 0 to 1\n",
    "plt.title('Distribution of Pixel Values')\n",
    "plt.xlabel('Pixel Intensity')\n",
    "plt.ylabel('Frequency')\n",
    "plt.show()"
   ]
  },
  {
   "cell_type": "code",
   "execution_count": 12,
   "metadata": {},
   "outputs": [
    {
     "name": "stdout",
     "output_type": "stream",
     "text": [
      "Number of 'empty' pixels: 383\n",
      "Number of NaN values: 0\n"
     ]
    }
   ],
   "source": [
    "# Checking for NaN values\n",
    "nan_values = np.isnan(sub_image2)\n",
    "\n",
    "# Counting NaN values\n",
    "nan_count = np.sum(nan_values)\n",
    "\n",
    "# Counting non-NaN values\n",
    "# Identifying \"empty\" pixels (assuming \"empty\" means 0)\n",
    "empty_pixels = (sub_image2 == 0)\n",
    "\n",
    "# Counting \"empty\" pixels\n",
    "empty_count = np.sum(empty_pixels)\n",
    "\n",
    "print(f\"Number of 'empty' pixels: {empty_count}\")\n",
    "\n",
    "print(f\"Number of NaN values: {nan_count}\")"
   ]
  },
  {
   "cell_type": "code",
   "execution_count": 13,
   "metadata": {},
   "outputs": [
    {
     "ename": "IndexError",
     "evalue": "tuple index out of range",
     "output_type": "error",
     "traceback": [
      "\u001b[1;31m---------------------------------------------------------------------------\u001b[0m",
      "\u001b[1;31mIndexError\u001b[0m                                Traceback (most recent call last)",
      "\u001b[1;32mc:\\Users\\Musae\\Documents\\GitHub-REPOs\\Vegetation-Cover-In-Riyadh\\Codes\\init code\\normal codes\\code11.ipynb Cell 7\u001b[0m line \u001b[0;36m5\n\u001b[0;32m      <a href='vscode-notebook-cell:/c%3A/Users/Musae/Documents/GitHub-REPOs/Vegetation-Cover-In-Riyadh/Codes/init%20code/normal%20codes/code11.ipynb#W6sZmlsZQ%3D%3D?line=2'>3</a>\u001b[0m \u001b[39m# Loop over each pixel in the sub_image2 array\u001b[39;00m\n\u001b[0;32m      <a href='vscode-notebook-cell:/c%3A/Users/Musae/Documents/GitHub-REPOs/Vegetation-Cover-In-Riyadh/Codes/init%20code/normal%20codes/code11.ipynb#W6sZmlsZQ%3D%3D?line=3'>4</a>\u001b[0m \u001b[39mfor\u001b[39;00m row \u001b[39min\u001b[39;00m \u001b[39mrange\u001b[39m(sub_image2\u001b[39m.\u001b[39mshape[\u001b[39m0\u001b[39m]):  \n\u001b[1;32m----> <a href='vscode-notebook-cell:/c%3A/Users/Musae/Documents/GitHub-REPOs/Vegetation-Cover-In-Riyadh/Codes/init%20code/normal%20codes/code11.ipynb#W6sZmlsZQ%3D%3D?line=4'>5</a>\u001b[0m     \u001b[39mfor\u001b[39;00m col \u001b[39min\u001b[39;00m \u001b[39mrange\u001b[39m(sub_image2\u001b[39m.\u001b[39;49mshape[\u001b[39m1\u001b[39;49m]): \n\u001b[0;32m      <a href='vscode-notebook-cell:/c%3A/Users/Musae/Documents/GitHub-REPOs/Vegetation-Cover-In-Riyadh/Codes/init%20code/normal%20codes/code11.ipynb#W6sZmlsZQ%3D%3D?line=5'>6</a>\u001b[0m         value \u001b[39m=\u001b[39m sub_image2[row, col]\n\u001b[0;32m      <a href='vscode-notebook-cell:/c%3A/Users/Musae/Documents/GitHub-REPOs/Vegetation-Cover-In-Riyadh/Codes/init%20code/normal%20codes/code11.ipynb#W6sZmlsZQ%3D%3D?line=6'>7</a>\u001b[0m         \u001b[39mif\u001b[39;00m value \u001b[39m>\u001b[39m \u001b[39m0.5\u001b[39m:\n",
      "\u001b[1;31mIndexError\u001b[0m: tuple index out of range"
     ]
    }
   ],
   "source": [
    "cluster_counts = [0, 0, 0, 0, 0, 0]\n",
    "\n",
    "# Loop over each pixel in the sub_image2 array\n",
    "for row in range(sub_image2.shape[0]):  \n",
    "    for col in range(sub_image2.shape[1]): \n",
    "        value = sub_image2[row, col]\n",
    "        if value > 0.5:\n",
    "            cluster_counts[0] += 1\n",
    "        elif value > 0.4:\n",
    "            cluster_counts[1] += 1\n",
    "        elif value >0.3:\n",
    "            cluster_counts[2] += 1\n",
    "        elif value >0.2:\n",
    "            cluster_counts[3] += 1\n",
    "\n",
    "        elif value > 0:\n",
    "            cluster_counts[4] += 1\n",
    "        else:\n",
    "            cluster_counts[5] += 1\n",
    "\n",
    "\n",
    "cluster_labels = ['> 0.5', '> 0.4', '> 0.3', '> 0.2', '> 0', '≤ 0']\n",
    "\n",
    "plt.figure(figsize=(10, 6))\n",
    "plt.bar(cluster_labels, cluster_counts, color='skyblue')\n",
    "plt.title('sub_image2 Value Distribution')\n",
    "plt.xlabel('sub_image2 Value Range')\n",
    "plt.ylabel('Pixel Count')\n",
    "plt.grid(axis='y', linestyle='--', alpha=0.7)\n",
    "plt.show()\n",
    "print(cluster_counts)"
   ]
  }
 ],
 "metadata": {
  "kernelspec": {
   "display_name": "Python 3",
   "language": "python",
   "name": "python3"
  },
  "language_info": {
   "codemirror_mode": {
    "name": "ipython",
    "version": 3
   },
   "file_extension": ".py",
   "mimetype": "text/x-python",
   "name": "python",
   "nbconvert_exporter": "python",
   "pygments_lexer": "ipython3",
   "version": "3.11.4"
  },
  "orig_nbformat": 4
 },
 "nbformat": 4,
 "nbformat_minor": 2
}
