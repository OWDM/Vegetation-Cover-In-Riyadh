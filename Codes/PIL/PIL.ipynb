{
 "cells": [
  {
   "cell_type": "code",
   "execution_count": 3,
   "metadata": {},
   "outputs": [],
   "source": [
    "from osgeo import gdal\n",
    "from PIL import Image\n",
    "import matplotlib.pyplot as plt\n",
    "\n",
    "# Path to your Sentinel-2 TIFF file\n",
    "file_path = \"G:\\\\My Drive\\\\RUH_all_bands\\\\RUH-All-Bands_2018-12-15.tif\"\n",
    "\n",
    "# Open the dataset\n",
    "dataset = gdal.Open(file_path)\n"
   ]
  },
  {
   "cell_type": "code",
   "execution_count": null,
   "metadata": {},
   "outputs": [],
   "source": []
  },
  {
   "cell_type": "code",
   "execution_count": 7,
   "metadata": {},
   "outputs": [],
   "source": [
    "\n",
    "import numpy as np\n",
    "\n",
    "\n",
    "# Open your dataset\n",
    "dataset = gdal.Open('G:\\\\My Drive\\\\RUH_all_bands\\\\RUH-All-Bands_2018-12-15.tif')\n",
    "#dataset = gdal.Open('G:\\\\My Drive\\\\alsamer_new_22.tif')\n",
    "\n",
    "# Read the bands - assuming the bands are 4, 3, 2 for RGB\n",
    "red = dataset.GetRasterBand(4).ReadAsArray().astype(float)\n",
    "green = dataset.GetRasterBand(3).ReadAsArray().astype(float)\n",
    "blue = dataset.GetRasterBand(2).ReadAsArray().astype(float)\n",
    "\n",
    "# Replace any potential NaN or infinite values with zeros\n",
    "red[np.isnan(red) | np.isinf(red)] = 0\n",
    "green[np.isnan(green) | np.isinf(green)] = 0\n",
    "blue[np.isnan(blue) | np.isinf(blue)] = 0\n",
    "\n",
    "# Normalize the bands\n",
    "def normalize(array):\n",
    "    array_min, array_max = array.min(), array.max()\n",
    "    # Avoid division by zero\n",
    "    return (array - array_min) / (array_max - array_min) if array_max - array_min > 0 else array\n",
    "\n",
    "red_normalized = normalize(red)\n",
    "green_normalized = normalize(green)\n",
    "blue_normalized = normalize(blue)\n",
    "\n",
    "# Convert the normalized arrays to 8-bit (0-255)\n",
    "red_8bit = (red_normalized * 255).astype(np.uint8)\n",
    "green_8bit = (green_normalized * 255).astype(np.uint8)\n",
    "blue_8bit = (blue_normalized * 255).astype(np.uint8)\n",
    "\n",
    "# Stack the bands along the third dimension to create an RGB image\n",
    "rgb_8bit = np.stack((red_8bit, green_8bit, blue_8bit), axis=2)\n",
    "\n",
    "# Create a PIL image from the numpy array\n",
    "image = Image.fromarray(rgb_8bit)\n",
    "\n",
    "# Display the image using PIL's show() method\n",
    "image.show()\n"
   ]
  }
 ],
 "metadata": {
  "kernelspec": {
   "display_name": "Python 3",
   "language": "python",
   "name": "python3"
  },
  "language_info": {
   "codemirror_mode": {
    "name": "ipython",
    "version": 3
   },
   "file_extension": ".py",
   "mimetype": "text/x-python",
   "name": "python",
   "nbconvert_exporter": "python",
   "pygments_lexer": "ipython3",
   "version": "3.11.4"
  },
  "orig_nbformat": 4
 },
 "nbformat": 4,
 "nbformat_minor": 2
}
