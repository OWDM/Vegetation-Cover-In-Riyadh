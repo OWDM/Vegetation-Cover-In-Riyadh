{
 "cells": [
  {
   "cell_type": "code",
   "execution_count": null,
   "metadata": {},
   "outputs": [],
   "source": [
    "!pip install numpy tensorflow scikit-learn\n"
   ]
  },
  {
   "cell_type": "code",
   "execution_count": null,
   "metadata": {},
   "outputs": [],
   "source": [
    "import numpy as np\n",
    "import tensorflow as tf\n",
    "from sklearn.model_selection import train_test_split\n",
    "from tensorflow.keras.utils import to_categorical\n",
    "import os\n",
    "from PIL import Image\n"
   ]
  },
  {
   "cell_type": "code",
   "execution_count": null,
   "metadata": {},
   "outputs": [],
   "source": [
    "def load_images_and_masks(img_dir, mask_dir):\n",
    "    img_files = [os.path.join(img_dir, file) for file in sorted(os.listdir(img_dir))]\n",
    "    mask_files = [os.path.join(mask_dir, file) for file in sorted(os.listdir(mask_dir))]\n",
    "\n",
    "    images = [np.array(Image.open(file)) for file in img_files]\n",
    "    masks = [np.array(Image.open(file)) for file in mask_files]\n",
    "\n",
    "    return images, masks\n"
   ]
  },
  {
   "cell_type": "code",
   "execution_count": null,
   "metadata": {},
   "outputs": [],
   "source": [
    "from tensorflow.keras.utils import to_categorical\n",
    "from tensorflow.keras.preprocessing.image import ImageDataGenerator\n",
    "\n",
    "def preprocess_data(images, masks):\n",
    "    images = np.array(images, dtype=np.float32) / 255.0  # Normalize images and use float32\n",
    "    \n",
    "    # Convert mask pixel values to categorical labels\n",
    "    label_map = {255: 3, 170: 2, 85: 1, 0: 0}\n",
    "    masks = np.array(masks, dtype=np.uint8)\n",
    "    masks_categorical = np.vectorize(label_map.get)(masks)\n",
    "    \n",
    "    return images, masks_categorical\n"
   ]
  },
  {
   "cell_type": "code",
   "execution_count": null,
   "metadata": {},
   "outputs": [],
   "source": [
    "def split_data(images, masks, train_size=0.8, test_size=0.1):\n",
    "    # Split into train+val and test\n",
    "    images_train_val, images_test, masks_train_val, masks_test = train_test_split(\n",
    "        images, masks, test_size=test_size, random_state=42)\n",
    "\n",
    "    # Split train into train and val\n",
    "    val_size = test_size / (1.0 - test_size)  # Adjust validation size\n",
    "    images_train, images_val, masks_train, masks_val = train_test_split(\n",
    "        images_train_val, masks_train_val, test_size=val_size, random_state=42)\n",
    "    \n",
    "    return images_train, images_val, images_test, masks_train, masks_val, masks_test\n"
   ]
  },
  {
   "cell_type": "code",
   "execution_count": null,
   "metadata": {},
   "outputs": [],
   "source": [
    "# Paths to your datasets\n",
    "image_directory = 'N:\\\\My Drive\\\\Data\\\\RUH'\n",
    "mask_directory = 'N:\\\\My Drive\\\\Data\\\\Mask'\n",
    "\n",
    "# Load and preprocess data\n",
    "images, masks = load_images_and_masks(image_directory, mask_directory)\n",
    "images, masks = preprocess_data(images, masks)\n",
    "\n",
    "# Split data\n",
    "images_train, images_val, images_test, masks_train, masks_val, masks_test = split_data(images, masks)\n"
   ]
  },
  {
   "cell_type": "code",
   "execution_count": null,
   "metadata": {},
   "outputs": [],
   "source": []
  },
  {
   "cell_type": "code",
   "execution_count": null,
   "metadata": {},
   "outputs": [],
   "source": [
    "import tensorflow as tf\n",
    "from tensorflow.keras.models import Model\n",
    "from tensorflow.keras.layers import Input, Conv2D, MaxPooling2D, UpSampling2D, concatenate, Dropout\n",
    "from tensorflow.keras.optimizers import Adam\n"
   ]
  },
  {
   "cell_type": "code",
   "execution_count": null,
   "metadata": {},
   "outputs": [],
   "source": [
    "from tensorflow.keras.layers import BatchNormalization, Dropout\n",
    "\n",
    "def unet_model(input_size=(256, 256, 1), num_classes=4):\n",
    "    inputs = Input(input_size)\n",
    "\n",
    "    # Encoder\n",
    "    conv1 = Conv2D(64, 3, activation='relu', padding='same', kernel_initializer='he_normal')(inputs)\n",
    "    conv1 = BatchNormalization()(conv1)\n",
    "    conv1 = Conv2D(64, 3, activation='relu', padding='same', kernel_initializer='he_normal')(conv1)\n",
    "    conv1 = BatchNormalization()(conv1)\n",
    "    pool1 = MaxPooling2D(pool_size=(2, 2))(conv1)\n",
    "    drop1 = Dropout(0.5)(pool1)\n",
    "\n",
    "    conv2 = Conv2D(128, 3, activation='relu', padding='same', kernel_initializer='he_normal')(drop1)\n",
    "    conv2 = BatchNormalization()(conv2)\n",
    "    conv2 = Conv2D(128, 3, activation='relu', padding='same', kernel_initializer='he_normal')(conv2)\n",
    "    conv2 = BatchNormalization()(conv2)\n",
    "    pool2 = MaxPooling2D(pool_size=(2, 2))(conv2)\n",
    "    drop2 = Dropout(0.5)(pool2)\n",
    "\n",
    "    # Bridge\n",
    "    conv3 = Conv2D(256, 3, activation='relu', padding='same', kernel_initializer='he_normal')(drop2)\n",
    "    conv3 = BatchNormalization()(conv3)\n",
    "    conv3 = Conv2D(256, 3, activation='relu', padding='same', kernel_initializer='he_normal')(conv3)\n",
    "    conv3 = BatchNormalization()(conv3)\n",
    "\n",
    "    # Decoder\n",
    "    up1 = UpSampling2D(size=(2, 2))(conv3)\n",
    "    merge1 = concatenate([conv2, up1], axis=3)\n",
    "    conv4 = Conv2D(128, 3, activation='relu', padding='same', kernel_initializer='he_normal')(merge1)\n",
    "    conv4 = BatchNormalization()(conv4)\n",
    "    conv4 = Conv2D(128, 3, activation='relu', padding='same', kernel_initializer='he_normal')(conv4)\n",
    "    conv4 = BatchNormalization()(conv4)\n",
    "    up2 = UpSampling2D(size=(2, 2))(conv4)\n",
    "    merge2 = concatenate([conv1, up2], axis=3)\n",
    "    conv5 = Conv2D(64, 3, activation='relu', padding='same', kernel_initializer='he_normal')(merge2)\n",
    "    conv5 = BatchNormalization()(conv5)\n",
    "    conv5 = Conv2D(64, 3, activation='relu', padding='same', kernel_initializer='he_normal')(conv5)\n",
    "    conv5 = BatchNormalization()(conv5)\n",
    "\n",
    "    # Output\n",
    "    conv6 = Conv2D(num_classes, 1, activation='softmax', padding='same', kernel_initializer='he_normal')(conv5)\n",
    "\n",
    "    model = Model(inputs=inputs, outputs=conv6)\n",
    "    model.compile(optimizer=Adam(learning_rate=1e-4), loss='categorical_crossentropy', metrics=['accuracy'])\n",
    "    return model\n"
   ]
  },
  {
   "cell_type": "code",
   "execution_count": null,
   "metadata": {},
   "outputs": [],
   "source": [
    "model = unet_model(input_size=(256, 256, 1), num_classes=4)\n",
    "model.summary()\n"
   ]
  },
  {
   "cell_type": "code",
   "execution_count": null,
   "metadata": {},
   "outputs": [],
   "source": [
    "# Reshape the images and masks to remove the unnecessary dimensions\n",
    "images_train = images_train.reshape((27647, 256, 256, 3))\n",
    "masks_train = masks_train.reshape((27647, 256, 256, 1))\n",
    "\n",
    "# Verify the new shapes\n",
    "print(\"New shape of images_train:\", images_train.shape)\n",
    "print(\"New shape of masks_train:\", masks_train.shape)\n"
   ]
  },
  {
   "cell_type": "code",
   "execution_count": null,
   "metadata": {},
   "outputs": [],
   "source": [
    "from tensorflow.keras.preprocessing.image import ImageDataGenerator\n",
    "\n",
    "# Create a data generator for the training and validation data\n",
    "def create_datagen():\n",
    "    return ImageDataGenerator(\n",
    "        rotation_range=10,\n",
    "        width_shift_range=0.1,\n",
    "        height_shift_range=0.1,\n",
    "        shear_range=0.1,\n",
    "        zoom_range=0.1,\n",
    "        horizontal_flip=True,\n",
    "        fill_mode='nearest')\n",
    "\n",
    "train_datagen = create_datagen()\n",
    "val_datagen = create_datagen()\n",
    "\n",
    "# Prepare the generators\n",
    "train_generator = train_datagen.flow(images_train, masks_train, batch_size=16)\n",
    "val_generator = val_datagen.flow(images_val, masks_val, batch_size=16)  # Make sure images_val and masks_val are also correctly shaped\n",
    "\n",
    "# Train the model\n",
    "history = model.fit(\n",
    "    train_generator,\n",
    "    steps_per_epoch=len(images_train) // 16,  # Total number of batches per epoch\n",
    "    epochs=10,  # Number of epochs to train for\n",
    "    validation_data=val_generator,\n",
    "    validation_steps=len(images_val) // 16  # Total number of validation batches\n",
    ")\n"
   ]
  },
  {
   "cell_type": "code",
   "execution_count": null,
   "metadata": {},
   "outputs": [],
   "source": [
    "import matplotlib.pyplot as plt\n",
    "\n",
    "# Plot training & validation accuracy values\n",
    "plt.plot(history.history['accuracy'])\n",
    "plt.plot(history.history['val_accuracy'])\n",
    "plt.title('Model Accuracy')\n",
    "plt.ylabel('Accuracy')\n",
    "plt.xlabel('Epoch')\n",
    "plt.legend(['Train', 'Validation'], loc='upper left')\n",
    "plt.show()\n",
    "\n",
    "# Plot training & validation loss values\n",
    "plt.plot(history.history['loss'])\n",
    "plt.plot(history.history['val_loss'])\n",
    "plt.title('Model Loss')\n",
    "plt.ylabel('Loss')\n",
    "plt.xlabel('Epoch')\n",
    "plt.legend(['Train', 'Validation'], loc='upper left')\n",
    "plt.show()\n"
   ]
  }
 ],
 "metadata": {
  "kernelspec": {
   "display_name": "Python 3",
   "language": "python",
   "name": "python3"
  },
  "language_info": {
   "codemirror_mode": {
    "name": "ipython",
    "version": 3
   },
   "file_extension": ".py",
   "mimetype": "text/x-python",
   "name": "python",
   "nbconvert_exporter": "python",
   "pygments_lexer": "ipython3",
   "version": "3.11.4"
  },
  "orig_nbformat": 4
 },
 "nbformat": 4,
 "nbformat_minor": 2
}
