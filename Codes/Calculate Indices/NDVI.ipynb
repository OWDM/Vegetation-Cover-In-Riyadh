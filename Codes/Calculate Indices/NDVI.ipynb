{
 "cells": [
  {
   "cell_type": "code",
   "execution_count": 1,
   "metadata": {},
   "outputs": [],
   "source": [
    "import os\n",
    "from osgeo import gdal\n",
    "import numpy as np"
   ]
  },
  {
   "cell_type": "code",
   "execution_count": 3,
   "metadata": {},
   "outputs": [
    {
     "name": "stdout",
     "output_type": "stream",
     "text": [
      "NDVI image saved for alnoabih_2.tif\n",
      "NDVI image saved for alnoabih_1.tif\n"
     ]
    },
    {
     "name": "stderr",
     "output_type": "stream",
     "text": [
      "c:\\Users\\Musae\\AppData\\Local\\Programs\\Python\\Python311\\Lib\\site-packages\\osgeo\\gdal.py:312: FutureWarning: Neither gdal.UseExceptions() nor gdal.DontUseExceptions() has been explicitly called. In GDAL 4.0, exceptions will be enabled by default.\n",
      "  warnings.warn(\n"
     ]
    }
   ],
   "source": [
    "input_folder_path =  \"G:\\\\My Drive\\\\Alnoabih\"\n",
    "output_folder_path = \"G:\\\\My Drive\\\\Alnoabih_NDVI\"\n",
    "\n",
    "\n",
    "for filename in os.listdir(input_folder_path):\n",
    "    if filename.endswith('.tif'):\n",
    "        file_path = os.path.join(input_folder_path, filename)\n",
    "        \n",
    "        dataset = gdal.Open(file_path)\n",
    "        \n",
    "        if dataset is None:\n",
    "            print(f\"Failed to open file {filename}\")\n",
    "            continue\n",
    "        \n",
    "        # Assuming Band 4 is the first band and Band 8 is the second band in your files\n",
    "        red_band = dataset.GetRasterBand(1).ReadAsArray().astype(float)\n",
    "        nir_band = dataset.GetRasterBand(2).ReadAsArray().astype(float)\n",
    "        \n",
    "        # Calculate NDVI\n",
    "        # Avoid division by zero by adding a small number to the denominator\n",
    "        ndvi = (nir_band - red_band) / (nir_band + red_band + 1e-10)\n",
    "        \n",
    "        # Create a GDAL driver for TIF files\n",
    "        driver = gdal.GetDriverByName('GTiff')\n",
    "        \n",
    "        # Create a new NDVI TIF file with the same size as the input image\n",
    "        ndvi_dataset = driver.Create(os.path.join(output_folder_path, f'NDVI_{filename}'), red_band.shape[1], red_band.shape[0], 1, gdal.GDT_Float32)\n",
    "        \n",
    "        # Set NDVI image geotransform and projection from the original dataset\n",
    "        ndvi_dataset.SetGeoTransform(dataset.GetGeoTransform())\n",
    "        ndvi_dataset.SetProjection(dataset.GetProjection())\n",
    "        \n",
    "        # Write the NDVI array to the newly created TIF file\n",
    "        ndvi_dataset.GetRasterBand(1).WriteArray(ndvi)\n",
    "        \n",
    "        # Close the datasets\n",
    "        ndvi_dataset = None\n",
    "        dataset = None\n",
    "\n",
    "        print(f\"NDVI image saved for {filename}\")\n"
   ]
  }
 ],
 "metadata": {
  "kernelspec": {
   "display_name": "Python 3",
   "language": "python",
   "name": "python3"
  },
  "language_info": {
   "codemirror_mode": {
    "name": "ipython",
    "version": 3
   },
   "file_extension": ".py",
   "mimetype": "text/x-python",
   "name": "python",
   "nbconvert_exporter": "python",
   "pygments_lexer": "ipython3",
   "version": "3.11.4"
  },
  "orig_nbformat": 4
 },
 "nbformat": 4,
 "nbformat_minor": 2
}
