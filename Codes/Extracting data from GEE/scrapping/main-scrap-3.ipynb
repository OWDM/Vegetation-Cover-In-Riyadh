{
 "cells": [
  {
   "cell_type": "code",
   "execution_count": 1,
   "metadata": {},
   "outputs": [],
   "source": [
    "import ee\n"
   ]
  },
  {
   "cell_type": "code",
   "execution_count": 2,
   "metadata": {},
   "outputs": [
    {
     "data": {
      "text/plain": [
       "True"
      ]
     },
     "execution_count": 2,
     "metadata": {},
     "output_type": "execute_result"
    }
   ],
   "source": [
    "ee.Authenticate()\n"
   ]
  },
  {
   "cell_type": "code",
   "execution_count": 20,
   "metadata": {},
   "outputs": [],
   "source": [
    "ee.Initialize()"
   ]
  },
  {
   "cell_type": "code",
   "execution_count": null,
   "metadata": {},
   "outputs": [],
   "source": [
    "aoi=ee.Geometry.Polygon( [\n",
    "[39.23457871724432,21.57825816603353],\n",
    "[39.234974343074015,21.57825816603353],\n",
    "[39.234974343074015,21.578487634954122],\n",
    "[39.23457871724432,21.578487634954122],\n",
    "[39.23457871724432,21.57825816603353]\n",
    "])\n",
    "#alsamer-3"
   ]
  },
  {
   "cell_type": "code",
   "execution_count": 27,
   "metadata": {},
   "outputs": [],
   "source": [
    "aoi=ee.Geometry.Polygon( [\n",
    "\n",
    "\n",
    "\n",
    "\n",
    "[39.23432873311285,21.578286439965606],\n",
    "[39.23481153073553,21.578286439965606],\n",
    "[39.23481153073553,21.578739141800916],\n",
    "[39.23432873311285,21.578739141800916],\n",
    "[39.23432873311285,21.578286439965606]\n",
    "])\n",
    "#alsamer-4"
   ]
  },
  {
   "cell_type": "code",
   "execution_count": null,
   "metadata": {},
   "outputs": [],
   "source": [
    "#    .select(['B4', 'B8']) \\"
   ]
  },
  {
   "cell_type": "code",
   "execution_count": 26,
   "metadata": {},
   "outputs": [],
   "source": [
    "# Filter the Sentinel-2 ImageCollection for the specified date range, AOI, and apply cloud masking\n",
    "sentinelCollection = ee.ImageCollection(\"COPERNICUS/S2_SR\") \\\n",
    "    .filterDate('2022-01-01', '2024-03-17') \\\n",
    "    .filterBounds(aoi) \\\n",
    "    .select(['B1', 'B2','B3', 'B4','B5', 'B6','B7', 'B8']) \\\n",
    "    .median()  # Compute the median of the filtered collection\n",
    "\n",
    "# Clip the median image to the AOI\n",
    "clippedImage = sentinelCollection.clip(aoi)\n",
    "\n",
    "# Function to cast selected bands to Float32\n",
    "def castImage(image):\n",
    "    return image.toFloat()\n",
    "\n",
    "# Cast the selected bands of the clipped image to Float32\n",
    "castedImage = castImage(clippedImage)\n",
    "\n",
    "# Example export parameters (make sure to replace 'aoi.getInfo()['coordinates']' with your AOI coordinates if necessary)\n",
    "task = ee.batch.Export.image.toDrive(**{\n",
    "    'image': castedImage,\n",
    "    'description': 'alsamer_new_22',\n",
    "    'scale': 10,\n",
    "    'region': aoi.getInfo()['coordinates'],  # Make sure this is correctly defined for your AOI\n",
    "    'fileFormat': 'GeoTIFF',\n",
    "    'maxPixels': 1e9\n",
    "})\n",
    "task.start()"
   ]
  }
 ],
 "metadata": {
  "kernelspec": {
   "display_name": "Python 3",
   "language": "python",
   "name": "python3"
  },
  "language_info": {
   "codemirror_mode": {
    "name": "ipython",
    "version": 3
   },
   "file_extension": ".py",
   "mimetype": "text/x-python",
   "name": "python",
   "nbconvert_exporter": "python",
   "pygments_lexer": "ipython3",
   "version": "3.11.9"
  },
  "orig_nbformat": 4
 },
 "nbformat": 4,
 "nbformat_minor": 2
}
