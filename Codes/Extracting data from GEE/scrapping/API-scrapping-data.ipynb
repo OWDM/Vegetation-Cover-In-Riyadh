{
 "cells": [
  {
   "cell_type": "code",
   "execution_count": 34,
   "metadata": {},
   "outputs": [],
   "source": [
    "import ee"
   ]
  },
  {
   "cell_type": "code",
   "execution_count": 35,
   "metadata": {},
   "outputs": [
    {
     "data": {
      "text/plain": [
       "True"
      ]
     },
     "execution_count": 35,
     "metadata": {},
     "output_type": "execute_result"
    }
   ],
   "source": [
    "ee.Authenticate()"
   ]
  },
  {
   "cell_type": "code",
   "execution_count": 36,
   "metadata": {},
   "outputs": [],
   "source": [
    "ee.Initialize()"
   ]
  },
  {
   "cell_type": "code",
   "execution_count": 38,
   "metadata": {},
   "outputs": [],
   "source": [
    "aoi = ee.Geometry.Polygon([\n",
    "    [\n",
    "        [-71.07505705182442,42.226543564466205],\n",
    "        [-70.99386122052559,42.226543564466205],\n",
    "        [-70.99386122052559,42.26682587484719],\n",
    "        [-71.07505705182442,42.26682587484719],\n",
    "        [-71.07505705182442,42.226543564466205]\n",
    "    ]\n",
    "])\n",
    "\n",
    "\n"
   ]
  },
  {
   "cell_type": "code",
   "execution_count": 39,
   "metadata": {},
   "outputs": [],
   "source": [
    "from IPython.display import Image"
   ]
  },
  {
   "cell_type": "code",
   "execution_count": 40,
   "metadata": {},
   "outputs": [
    {
     "data": {
      "text/html": [
       "<img src=\"https://earthengine.googleapis.com/v1/projects/earthengine-legacy/thumbnails/fa859d262a7973814e3b60fcc37b180e-a0486fee2eb6403979fdacba1c617652:getPixels\"/>"
      ],
      "text/plain": [
       "<IPython.core.display.Image object>"
      ]
     },
     "metadata": {},
     "output_type": "display_data"
    }
   ],
   "source": [
    "# Select a Sentinel-2 image\n",
    "sentinel2 = ee.Image(ee.ImageCollection('COPERNICUS/S2')\n",
    "                     .filterBounds(aoi)\n",
    "                     .filterDate('2023-01-01', '2023-01-30')\n",
    "                     .filter(ee.Filter.lt('CLOUDY_PIXEL_PERCENTAGE', 5))\n",
    "                     .first())\n",
    "\n",
    "# Visualization parameters for Sentinel-2\n",
    "vis_params = {\n",
    "    'min': 0,\n",
    "    'max': 3000,\n",
    "    'bands': ['B4', 'B3', 'B2'],  # RGB\n",
    "}\n",
    "\n",
    "# Overlay the AOI on the Sentinel-2 image\n",
    "aoi_layer = ee.Image().paint(featureCollection=aoi, color=1, width=3)\n",
    "composite = sentinel2.visualize(**vis_params).blend(aoi_layer.visualize(**{'palette': 'FF0000'}))\n",
    "\n",
    "# Get the URL for the thumbnail of the composite image\n",
    "thumbnail_url = composite.getThumbURL({\n",
    "    'region': aoi.bounds().getInfo()['coordinates'],\n",
    "    'dimensions': 512\n",
    "})\n",
    "\n",
    "# Display the image directly in the notebook\n",
    "display(Image(url=thumbnail_url))"
   ]
  },
  {
   "cell_type": "code",
   "execution_count": 41,
   "metadata": {},
   "outputs": [],
   "source": [
    "import folium\n"
   ]
  },
  {
   "cell_type": "code",
   "execution_count": 42,
   "metadata": {},
   "outputs": [
    {
     "data": {
      "text/html": [
       "<div style=\"width:100%;\"><div style=\"position:relative;width:100%;height:0;padding-bottom:60%;\"><span style=\"color:#565656\">Make this Notebook Trusted to load map: File -> Trust Notebook</span><iframe srcdoc=\"&lt;!DOCTYPE html&gt;\n",
       "&lt;html&gt;\n",
       "&lt;head&gt;\n",
       "    \n",
       "    &lt;meta http-equiv=&quot;content-type&quot; content=&quot;text/html; charset=UTF-8&quot; /&gt;\n",
       "    \n",
       "        &lt;script&gt;\n",
       "            L_NO_TOUCH = false;\n",
       "            L_DISABLE_3D = false;\n",
       "        &lt;/script&gt;\n",
       "    \n",
       "    &lt;style&gt;html, body {width: 100%;height: 100%;margin: 0;padding: 0;}&lt;/style&gt;\n",
       "    &lt;style&gt;#map {position:absolute;top:0;bottom:0;right:0;left:0;}&lt;/style&gt;\n",
       "    &lt;script src=&quot;https://cdn.jsdelivr.net/npm/leaflet@1.9.3/dist/leaflet.js&quot;&gt;&lt;/script&gt;\n",
       "    &lt;script src=&quot;https://code.jquery.com/jquery-3.7.1.min.js&quot;&gt;&lt;/script&gt;\n",
       "    &lt;script src=&quot;https://cdn.jsdelivr.net/npm/bootstrap@5.2.2/dist/js/bootstrap.bundle.min.js&quot;&gt;&lt;/script&gt;\n",
       "    &lt;script src=&quot;https://cdnjs.cloudflare.com/ajax/libs/Leaflet.awesome-markers/2.0.2/leaflet.awesome-markers.js&quot;&gt;&lt;/script&gt;\n",
       "    &lt;link rel=&quot;stylesheet&quot; href=&quot;https://cdn.jsdelivr.net/npm/leaflet@1.9.3/dist/leaflet.css&quot;/&gt;\n",
       "    &lt;link rel=&quot;stylesheet&quot; href=&quot;https://cdn.jsdelivr.net/npm/bootstrap@5.2.2/dist/css/bootstrap.min.css&quot;/&gt;\n",
       "    &lt;link rel=&quot;stylesheet&quot; href=&quot;https://netdna.bootstrapcdn.com/bootstrap/3.0.0/css/bootstrap.min.css&quot;/&gt;\n",
       "    &lt;link rel=&quot;stylesheet&quot; href=&quot;https://cdn.jsdelivr.net/npm/@fortawesome/fontawesome-free@6.2.0/css/all.min.css&quot;/&gt;\n",
       "    &lt;link rel=&quot;stylesheet&quot; href=&quot;https://cdnjs.cloudflare.com/ajax/libs/Leaflet.awesome-markers/2.0.2/leaflet.awesome-markers.css&quot;/&gt;\n",
       "    &lt;link rel=&quot;stylesheet&quot; href=&quot;https://cdn.jsdelivr.net/gh/python-visualization/folium/folium/templates/leaflet.awesome.rotate.min.css&quot;/&gt;\n",
       "    \n",
       "            &lt;meta name=&quot;viewport&quot; content=&quot;width=device-width,\n",
       "                initial-scale=1.0, maximum-scale=1.0, user-scalable=no&quot; /&gt;\n",
       "            &lt;style&gt;\n",
       "                #map_c1fc97a73b8105330786800c7bb1488a {\n",
       "                    position: relative;\n",
       "                    width: 100.0%;\n",
       "                    height: 100.0%;\n",
       "                    left: 0.0%;\n",
       "                    top: 0.0%;\n",
       "                }\n",
       "                .leaflet-container { font-size: 1rem; }\n",
       "            &lt;/style&gt;\n",
       "        \n",
       "&lt;/head&gt;\n",
       "&lt;body&gt;\n",
       "    \n",
       "    \n",
       "            &lt;div class=&quot;folium-map&quot; id=&quot;map_c1fc97a73b8105330786800c7bb1488a&quot; &gt;&lt;/div&gt;\n",
       "        \n",
       "&lt;/body&gt;\n",
       "&lt;script&gt;\n",
       "    \n",
       "    \n",
       "            var map_c1fc97a73b8105330786800c7bb1488a = L.map(\n",
       "                &quot;map_c1fc97a73b8105330786800c7bb1488a&quot;,\n",
       "                {\n",
       "                    center: [-71.04257871930488, 42.2426564886186],\n",
       "                    crs: L.CRS.EPSG3857,\n",
       "                    zoom: 15,\n",
       "                    zoomControl: true,\n",
       "                    preferCanvas: false,\n",
       "                }\n",
       "            );\n",
       "\n",
       "            \n",
       "\n",
       "        \n",
       "    \n",
       "            var tile_layer_1a175166bbb957daf0cdc115810cbbb8 = L.tileLayer(\n",
       "                &quot;https://tile.openstreetmap.org/{z}/{x}/{y}.png&quot;,\n",
       "                {&quot;attribution&quot;: &quot;\\u0026copy; \\u003ca href=\\&quot;https://www.openstreetmap.org/copyright\\&quot;\\u003eOpenStreetMap\\u003c/a\\u003e contributors&quot;, &quot;detectRetina&quot;: false, &quot;maxNativeZoom&quot;: 19, &quot;maxZoom&quot;: 19, &quot;minZoom&quot;: 0, &quot;noWrap&quot;: false, &quot;opacity&quot;: 1, &quot;subdomains&quot;: &quot;abc&quot;, &quot;tms&quot;: false}\n",
       "            );\n",
       "        \n",
       "    \n",
       "            tile_layer_1a175166bbb957daf0cdc115810cbbb8.addTo(map_c1fc97a73b8105330786800c7bb1488a);\n",
       "        \n",
       "    \n",
       "            var polygon_c1700f232e2782fb2fecde5c0a9930f6 = L.polygon(\n",
       "                [[-71.07505705182442, 42.226543564466205], [-70.99386122052559, 42.226543564466205], [-70.99386122052559, 42.26682587484719], [-71.07505705182442, 42.26682587484719], [-71.07505705182442, 42.226543564466205]],\n",
       "                {&quot;bubblingMouseEvents&quot;: true, &quot;color&quot;: &quot;blue&quot;, &quot;dashArray&quot;: null, &quot;dashOffset&quot;: null, &quot;fill&quot;: true, &quot;fillColor&quot;: &quot;blue&quot;, &quot;fillOpacity&quot;: 0.1, &quot;fillRule&quot;: &quot;evenodd&quot;, &quot;lineCap&quot;: &quot;round&quot;, &quot;lineJoin&quot;: &quot;round&quot;, &quot;noClip&quot;: false, &quot;opacity&quot;: 1.0, &quot;smoothFactor&quot;: 1.0, &quot;stroke&quot;: true, &quot;weight&quot;: 3}\n",
       "            ).addTo(map_c1fc97a73b8105330786800c7bb1488a);\n",
       "        \n",
       "&lt;/script&gt;\n",
       "&lt;/html&gt;\" style=\"position:absolute;width:100%;height:100%;left:0;top:0;border:none !important;\" allowfullscreen webkitallowfullscreen mozallowfullscreen></iframe></div></div>"
      ],
      "text/plain": [
       "<folium.folium.Map at 0x2b4a916c850>"
      ]
     },
     "execution_count": 42,
     "metadata": {},
     "output_type": "execute_result"
    }
   ],
   "source": [
    "aoi_coordinates =[\n",
    "    \n",
    "    \n",
    " [-71.07505705182442,42.226543564466205],\n",
    " [-70.99386122052559,42.226543564466205],\n",
    " [-70.99386122052559,42.26682587484719],\n",
    " [-71.07505705182442,42.26682587484719],\n",
    " [-71.07505705182442,42.226543564466205]   # Closing the loop\n",
    "    \n",
    "    \n",
    "]\n",
    "# Calculate the center of your AOI for the map's initial view\n",
    "lat_center = sum(lat for lat, lon in aoi_coordinates) / len(aoi_coordinates)\n",
    "lon_center = sum(lon for lat, lon in aoi_coordinates) / len(aoi_coordinates)\n",
    "\n",
    "# Create a Folium map centered around the middle of the AOI\n",
    "m = folium.Map(location=[lat_center, lon_center], zoom_start=15)\n",
    "\n",
    "# Add a polygon overlay to the map using the AOI coordinates\n",
    "folium.Polygon(\n",
    "    locations=aoi_coordinates,  # Use the AOI coordinates directly\n",
    "    color='blue',\n",
    "    weight=3,\n",
    "    fill_color='blue',\n",
    "    fill_opacity=0.1,\n",
    ").add_to(m)\n",
    "\n",
    "# Display the map\n",
    "m"
   ]
  },
  {
   "cell_type": "code",
   "execution_count": 32,
   "metadata": {},
   "outputs": [],
   "source": [
    "# Filter the Sentinel-2 ImageCollection for images within the AOI and time frame, and compute the median\n",
    "sentinelCollection = ee.ImageCollection(\"COPERNICUS/S2_SR\") \\\n",
    "    .filterDate('2024-01-01', '2024-01-30') \\\n",
    "    .filterBounds(aoi) \\\n",
    "    .median()\n",
    "\n",
    "# Clip the median image to the AOI\n",
    "clippedImage = sentinelCollection.clip(aoi)\n",
    "\n",
    "# Function to cast all bands to Float32\n",
    "def castImage(image):\n",
    "    return image.toFloat()\n",
    "\n",
    "# Cast all bands of the clipped image to Float32\n",
    "castedImage = castImage(clippedImage)\n",
    "\n",
    "\n",
    " #Export the casted image, specifying scale and region (this is an example, see below for details)\n",
    "task = ee.batch.Export.image.toDrive(**{\n",
    "   'image': castedImage,\n",
    "   'description': 'boston-2-Full-Bands',\n",
    "   'scale': 10,\n",
    "   'region': aoi.getInfo()['coordinates'],\n",
    "   'fileFormat': 'GeoTIFF',\n",
    "   'maxPixels': 1e9\n",
    " })\n",
    "task.start()"
   ]
  }
 ],
 "metadata": {
  "kernelspec": {
   "display_name": "Python 3",
   "language": "python",
   "name": "python3"
  },
  "language_info": {
   "codemirror_mode": {
    "name": "ipython",
    "version": 3
   },
   "file_extension": ".py",
   "mimetype": "text/x-python",
   "name": "python",
   "nbconvert_exporter": "python",
   "pygments_lexer": "ipython3",
   "version": "3.11.8"
  }
 },
 "nbformat": 4,
 "nbformat_minor": 2
}
