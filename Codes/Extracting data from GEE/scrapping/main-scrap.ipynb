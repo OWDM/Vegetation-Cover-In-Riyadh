{
 "cells": [
  {
   "cell_type": "code",
   "execution_count": 2,
   "metadata": {},
   "outputs": [],
   "source": [
    "import ee\n"
   ]
  },
  {
   "cell_type": "code",
   "execution_count": 3,
   "metadata": {},
   "outputs": [
    {
     "data": {
      "text/plain": [
       "True"
      ]
     },
     "execution_count": 3,
     "metadata": {},
     "output_type": "execute_result"
    }
   ],
   "source": [
    "ee.Authenticate()\n"
   ]
  },
  {
   "cell_type": "code",
   "execution_count": 4,
   "metadata": {},
   "outputs": [],
   "source": [
    "ee.Initialize()"
   ]
  },
  {
   "cell_type": "code",
   "execution_count": 4,
   "metadata": {},
   "outputs": [],
   "source": [
    "aoi=ee.Geometry.Polygon(\n",
    "[[39.26196452651823,21.893376873910263],\n",
    "[39.26283624444807,21.893376873910263],\n",
    "[39.26283624444807,21.893989109128505],\n",
    "[39.26196452651823,21.893989109128505],\n",
    "[39.26196452651823,21.893376873910263]]\n",
    ")#UJ"
   ]
  },
  {
   "cell_type": "code",
   "execution_count": null,
   "metadata": {},
   "outputs": [],
   "source": []
  },
  {
   "cell_type": "code",
   "execution_count": 17,
   "metadata": {},
   "outputs": [],
   "source": [
    "aoi=ee.Geometry.Polygon([\n",
    " [39.20888129773265,21.8537119026787],\n",
    " [39.280979076052965,21.8537119026787],\n",
    " [39.280979076052965,21.915198230339893],\n",
    " [39.20888129773265,21.915198230339893],\n",
    " [39.20888129773265,21.8537119026787]\n",
    "])"
   ]
  },
  {
   "cell_type": "code",
   "execution_count": null,
   "metadata": {},
   "outputs": [],
   "source": [
    "aoi=ee.Geometry.Polygon([\n",
    "\n",
    "    [46.60554880056072,24.532105031759635],\n",
    "    [46.751460970970875,24.455873255767536],\n",
    "    [46.95333475026775,24.496181878263375],\n",
    "    [46.942005099388844,24.673822919705184],\n",
    "    [46.908024931598696,24.723718460355094],\n",
    "    [46.90217965993572,24.783590439033855],\n",
    "    [46.917210283767645,24.820537820313316],\n",
    "    [46.88142308758074,24.87555671889163],\n",
    "    [46.857204379174,24.960354967272554],\n",
    "    [46.79987949209019,25.008127706608153],\n",
    "    [46.74013132009197,25.00967921679065],\n",
    "    [46.58323282155681,25.046076213753985],\n",
    "    [46.475370394624484,25.00160657236566],\n",
    "    [46.373805941674,24.90727431598331],\n",
    "    [46.40471149070172,24.803726426695388],\n",
    "    [46.49396890554119,24.644358488808862],\n",
    "    [46.51286518629248,24.544456555430976],\n",
    "    [46.586666049095875,24.53915317377673],\n",
    "    [46.60554880056072,24.532105031759635]\n",
    "\n",
    "]\n",
    ")"
   ]
  },
  {
   "cell_type": "code",
   "execution_count": 4,
   "metadata": {},
   "outputs": [],
   "source": [
    "aoi=ee.Geometry.Polygon( [\n",
    "[46.41388398001249,24.474133938125608],\n",
    "[46.99272614309843,24.474133938125608],\n",
    "[46.99272614309843,25.04372308127158],\n",
    "[46.41388398001249,25.04372308127158],\n",
    "[46.41388398001249,24.474133938125608]\n",
    "])  #new RUH-for ndvi values"
   ]
  },
  {
   "cell_type": "code",
   "execution_count": 15,
   "metadata": {},
   "outputs": [],
   "source": [
    "aoi=ee.Geometry.Polygon( [\n",
    "[-120.12635677842464,52.14102379672617],\n",
    "[-120.11297255544038,52.14102379672617],\n",
    "[-120.11297255544038,52.14779544206277],\n",
    "[-120.12635677842464,52.14779544206277],\n",
    "[-120.12635677842464,52.14102379672617]])\n",
    "#random"
   ]
  },
  {
   "cell_type": "code",
   "execution_count": 4,
   "metadata": {},
   "outputs": [],
   "source": [
    "aoi=ee.Geometry.Polygon( [\n",
    "[39.230642953025026,21.578023959235942],\n",
    "[39.237681069480104,21.578023959235942],\n",
    "[39.237681069480104,21.583052246512302],\n",
    "[39.230642953025026,21.583052246512302],\n",
    "[39.230642953025026,21.578023959235942]\n",
    "]) #alsamer-2"
   ]
  },
  {
   "cell_type": "code",
   "execution_count": 1,
   "metadata": {},
   "outputs": [
    {
     "ename": "NameError",
     "evalue": "name 'ee' is not defined",
     "output_type": "error",
     "traceback": [
      "\u001b[1;31m---------------------------------------------------------------------------\u001b[0m",
      "\u001b[1;31mNameError\u001b[0m                                 Traceback (most recent call last)",
      "\u001b[1;32mc:\\Users\\Musae\\Documents\\GitHub-REPOs\\Senior-project-main\\Codes\\Extracting data from GEE\\scrapping\\main-scrap.ipynb Cell 11\u001b[0m line \u001b[0;36m1\n\u001b[1;32m----> <a href='vscode-notebook-cell:/c%3A/Users/Musae/Documents/GitHub-REPOs/Senior-project-main/Codes/Extracting%20data%20from%20GEE/scrapping/main-scrap.ipynb#X13sZmlsZQ%3D%3D?line=0'>1</a>\u001b[0m aoi\u001b[39m=\u001b[39mee\u001b[39m.\u001b[39mGeometry\u001b[39m.\u001b[39mPolygon( [\n\u001b[0;32m      <a href='vscode-notebook-cell:/c%3A/Users/Musae/Documents/GitHub-REPOs/Senior-project-main/Codes/Extracting%20data%20from%20GEE/scrapping/main-scrap.ipynb#X13sZmlsZQ%3D%3D?line=1'>2</a>\u001b[0m [\u001b[39m39.23457871724432\u001b[39m,\u001b[39m21.57825816603353\u001b[39m],\n\u001b[0;32m      <a href='vscode-notebook-cell:/c%3A/Users/Musae/Documents/GitHub-REPOs/Senior-project-main/Codes/Extracting%20data%20from%20GEE/scrapping/main-scrap.ipynb#X13sZmlsZQ%3D%3D?line=2'>3</a>\u001b[0m [\u001b[39m39.234974343074015\u001b[39m,\u001b[39m21.57825816603353\u001b[39m],\n\u001b[0;32m      <a href='vscode-notebook-cell:/c%3A/Users/Musae/Documents/GitHub-REPOs/Senior-project-main/Codes/Extracting%20data%20from%20GEE/scrapping/main-scrap.ipynb#X13sZmlsZQ%3D%3D?line=3'>4</a>\u001b[0m [\u001b[39m39.234974343074015\u001b[39m,\u001b[39m21.578487634954122\u001b[39m],\n\u001b[0;32m      <a href='vscode-notebook-cell:/c%3A/Users/Musae/Documents/GitHub-REPOs/Senior-project-main/Codes/Extracting%20data%20from%20GEE/scrapping/main-scrap.ipynb#X13sZmlsZQ%3D%3D?line=4'>5</a>\u001b[0m [\u001b[39m39.23457871724432\u001b[39m,\u001b[39m21.578487634954122\u001b[39m],\n\u001b[0;32m      <a href='vscode-notebook-cell:/c%3A/Users/Musae/Documents/GitHub-REPOs/Senior-project-main/Codes/Extracting%20data%20from%20GEE/scrapping/main-scrap.ipynb#X13sZmlsZQ%3D%3D?line=5'>6</a>\u001b[0m [\u001b[39m39.23457871724432\u001b[39m,\u001b[39m21.57825816603353\u001b[39m]\n\u001b[0;32m      <a href='vscode-notebook-cell:/c%3A/Users/Musae/Documents/GitHub-REPOs/Senior-project-main/Codes/Extracting%20data%20from%20GEE/scrapping/main-scrap.ipynb#X13sZmlsZQ%3D%3D?line=6'>7</a>\u001b[0m ])\n\u001b[0;32m      <a href='vscode-notebook-cell:/c%3A/Users/Musae/Documents/GitHub-REPOs/Senior-project-main/Codes/Extracting%20data%20from%20GEE/scrapping/main-scrap.ipynb#X13sZmlsZQ%3D%3D?line=7'>8</a>\u001b[0m \u001b[39m#alsamer-3\u001b[39;00m\n",
      "\u001b[1;31mNameError\u001b[0m: name 'ee' is not defined"
     ]
    }
   ],
   "source": [
    "aoi=ee.Geometry.Polygon( [\n",
    "[39.23457871724432,21.57825816603353],\n",
    "[39.234974343074015,21.57825816603353],\n",
    "[39.234974343074015,21.578487634954122],\n",
    "[39.23457871724432,21.578487634954122],\n",
    "[39.23457871724432,21.57825816603353]\n",
    "])\n",
    "#alsamer-3"
   ]
  },
  {
   "cell_type": "code",
   "execution_count": 15,
   "metadata": {},
   "outputs": [],
   "source": [
    "def maskClouds(image):\n",
    "    # Example of a simple cloud mask using the QA60 band\n",
    "    # Actual implementations can be more complex and might use additional bands or indices\n",
    "    qa60 = image.select('QA60')\n",
    "    cloudMask = qa60.bitwiseAnd(1 << 10).eq(0)\n",
    "    return image.updateMask(cloudMask)"
   ]
  },
  {
   "cell_type": "code",
   "execution_count": 14,
   "metadata": {},
   "outputs": [],
   "source": [
    "# Filter the Sentinel-2 ImageCollection for images within the AOI and time frame, and compute the median\n",
    "sentinelCollection = ee.ImageCollection(\"COPERNICUS/S2_SR\") \\\n",
    "    .filterDate('2023-1-01', '2022-12-10') \\\n",
    "    .filterBounds(aoi) \\\n",
    "    .map(maskClouds) \\\n",
    "    .select(['B4', 'B8']) \\\n",
    "    .median()\n",
    "\n",
    "# Clip the median image to the AOI\n",
    "clippedImage = sentinelCollection.clip(aoi)\n",
    "\n",
    "# Function to cast all bands to Float32\n",
    "def castImage(image):\n",
    "    return image.toFloat()\n",
    "\n",
    "# Cast all bands of the clipped image to Float32\n",
    "castedImage = castImage(clippedImage)\n",
    "\n",
    "\n",
    " #Export the casted image, specifying scale and region (this is an example, see below for details)\n",
    "task = ee.batch.Export.image.toDrive(**{\n",
    "   'image': castedImage,\n",
    "   'description': 'alsamer_new_7',\n",
    "   'scale': 10,\n",
    "   'region': aoi.getInfo()['coordinates'],\n",
    "   'fileFormat': 'GeoTIFF',\n",
    "   'maxPixels': 1e9\n",
    " })\n",
    "task.start()\n"
   ]
  },
  {
   "cell_type": "code",
   "execution_count": 18,
   "metadata": {},
   "outputs": [],
   "source": [
    "# Filter the Sentinel-2 ImageCollection for the specified date range, AOI, and apply cloud masking\n",
    "sentinelCollection = ee.ImageCollection(\"COPERNICUS/S2_SR\") \\\n",
    "    .filterDate('2024-01-01', '2024-03-17') \\\n",
    "    .filterBounds(aoi) \\\n",
    "    .map(maskClouds) \\\n",
    "    .select(['B4', 'B8']) \\\n",
    "    .median()  # Compute the median of the filtered collection\n",
    "\n",
    "# Clip the median image to the AOI\n",
    "clippedImage = sentinelCollection.clip(aoi)\n",
    "\n",
    "# Function to cast selected bands to Float32\n",
    "def castImage(image):\n",
    "    return image.toFloat()\n",
    "\n",
    "# Cast the selected bands of the clipped image to Float32\n",
    "castedImage = castImage(clippedImage)\n",
    "\n",
    "# Example export parameters (make sure to replace 'aoi.getInfo()['coordinates']' with your AOI coordinates if necessary)\n",
    "task = ee.batch.Export.image.toDrive(**{\n",
    "    'image': castedImage,\n",
    "    'description': 'alsamer_new_11',\n",
    "    'scale': 10,\n",
    "    'region': aoi.getInfo()['coordinates'],  # Make sure this is correctly defined for your AOI\n",
    "    'fileFormat': 'GeoTIFF',\n",
    "    'maxPixels': 1e9\n",
    "})\n",
    "task.start()"
   ]
  },
  {
   "cell_type": "code",
   "execution_count": 11,
   "metadata": {},
   "outputs": [
    {
     "name": "stdout",
     "output_type": "stream",
     "text": [
      "Images export tasks started.\n"
     ]
    }
   ],
   "source": [
    "import datetime\n",
    "# Function to cast all bands to Float32\n",
    "def castImage(image):\n",
    "    return image.toFloat()\n",
    "\n",
    "# Function to export images\n",
    "def exportImage(image, date):\n",
    "    task = ee.batch.Export.image.toDrive(\n",
    "        image=image,\n",
    "        description=f'RUH-B4-B8_{date.strftime(\"%Y-%m-%d\")}',\n",
    "        scale=10,\n",
    "        region=aoi.getInfo()['coordinates'],\n",
    "        fileFormat='GeoTIFF',\n",
    "        maxPixels=1e9\n",
    "    )\n",
    "    task.start()\n",
    "\n",
    "# Start and end dates\n",
    "start_date = datetime.datetime(2018, 12, 15)\n",
    "end_date = datetime.datetime(2024, 1, 30)\n",
    "\n",
    "# Generate images every 30 days\n",
    "current_date = start_date\n",
    "while current_date <= end_date:\n",
    "    # Define the date range for the current image\n",
    "    date_range_start = current_date.strftime('%Y-%m-%d')\n",
    "    next_date = current_date + datetime.timedelta(days=30)\n",
    "    date_range_end = next_date.strftime('%Y-%m-%d')\n",
    "\n",
    "    # Get the image collection for the current date range\n",
    "    sentinelCollection = ee.ImageCollection(\"COPERNICUS/S2_SR\") \\\n",
    "        .filterDate(date_range_start, date_range_end) \\\n",
    "        .filterBounds(aoi) \\\n",
    "        .map(maskClouds) \\\n",
    "        .select(['B4', 'B8']) \\\n",
    "        .median() \n",
    "        \n",
    "    \n",
    "\n",
    "    # Clip the image to the AOI\n",
    "    clippedImage = sentinelCollection.clip(aoi)\n",
    "\n",
    "    # Cast all bands of the clipped image to Float32\n",
    "    castedImage = castImage(clippedImage)\n",
    "\n",
    "    # Export the casted image\n",
    "    exportImage(castedImage, current_date)\n",
    "\n",
    "    # Update the current date\n",
    "    current_date = next_date\n",
    "\n",
    "print(\"Images export tasks started.\")"
   ]
  },
  {
   "cell_type": "markdown",
   "metadata": {},
   "source": [
    "# all bands"
   ]
  },
  {
   "cell_type": "code",
   "execution_count": 6,
   "metadata": {},
   "outputs": [
    {
     "name": "stdout",
     "output_type": "stream",
     "text": [
      "Images export tasks started.\n"
     ]
    }
   ],
   "source": [
    "import datetime\n",
    "# Function to cast all bands to Float32\n",
    "def castImage(image):\n",
    "    return image.toFloat()\n",
    "\n",
    "# Function to export images\n",
    "def exportImage(image, date):\n",
    "    task = ee.batch.Export.image.toDrive(\n",
    "        image=image,\n",
    "        description=f'RUH-All-Bands_{date.strftime(\"%Y-%m-%d\")}',\n",
    "        scale=10,\n",
    "        region=aoi.getInfo()['coordinates'],\n",
    "        fileFormat='GeoTIFF',\n",
    "        maxPixels=1e9\n",
    "    )\n",
    "    task.start()\n",
    "\n",
    "# Start and end dates\n",
    "start_date = datetime.datetime(2018, 12, 15)\n",
    "end_date = datetime.datetime(2024, 1, 30)\n",
    "\n",
    "# Generate images every 30 days\n",
    "current_date = start_date\n",
    "while current_date <= end_date:\n",
    "    # Define the date range for the current image\n",
    "    date_range_start = current_date.strftime('%Y-%m-%d')\n",
    "    next_date = current_date + datetime.timedelta(days=30)\n",
    "    date_range_end = next_date.strftime('%Y-%m-%d')\n",
    "\n",
    "    # Get the image collection for the current date range\n",
    "    sentinelCollection = ee.ImageCollection(\"COPERNICUS/S2_SR\") \\\n",
    "        .filterDate(date_range_start, date_range_end) \\\n",
    "        .filterBounds(aoi) \\\n",
    "        .map(maskClouds) \\\n",
    "        .median() \n",
    "        \n",
    "    \n",
    "\n",
    "    # Clip the image to the AOI\n",
    "    clippedImage = sentinelCollection.clip(aoi)\n",
    "\n",
    "    # Cast all bands of the clipped image to Float32\n",
    "    castedImage = castImage(clippedImage)\n",
    "\n",
    "    # Export the casted image\n",
    "    exportImage(castedImage, current_date)\n",
    "\n",
    "    # Update the current date\n",
    "    current_date = next_date\n",
    "\n",
    "print(\"Images export tasks started.\")"
   ]
  }
 ],
 "metadata": {
  "kernelspec": {
   "display_name": "Python 3",
   "language": "python",
   "name": "python3"
  },
  "language_info": {
   "codemirror_mode": {
    "name": "ipython",
    "version": 3
   },
   "file_extension": ".py",
   "mimetype": "text/x-python",
   "name": "python",
   "nbconvert_exporter": "python",
   "pygments_lexer": "ipython3",
   "version": "3.11.4"
  }
 },
 "nbformat": 4,
 "nbformat_minor": 2
}
