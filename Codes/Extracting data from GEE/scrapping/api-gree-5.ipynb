{
 "cells": [
  {
   "cell_type": "code",
   "execution_count": 2,
   "metadata": {},
   "outputs": [],
   "source": [
    "import ee"
   ]
  },
  {
   "cell_type": "code",
   "execution_count": 3,
   "metadata": {},
   "outputs": [
    {
     "data": {
      "text/plain": [
       "True"
      ]
     },
     "execution_count": 3,
     "metadata": {},
     "output_type": "execute_result"
    }
   ],
   "source": [
    "ee.Authenticate()\n"
   ]
  },
  {
   "cell_type": "code",
   "execution_count": 4,
   "metadata": {},
   "outputs": [],
   "source": [
    "ee.Initialize()"
   ]
  },
  {
   "cell_type": "code",
   "execution_count": null,
   "metadata": {},
   "outputs": [],
   "source": [
    "aoi=ee.Geometry.Polygon(\n",
    "[[39.26196452651823,21.893376873910263],\n",
    "[39.26283624444807,21.893376873910263],\n",
    "[39.26283624444807,21.893989109128505],\n",
    "[39.26196452651823,21.893989109128505],\n",
    "[39.26196452651823,21.893376873910263]]\n",
    ")#UJ"
   ]
  },
  {
   "cell_type": "code",
   "execution_count": 9,
   "metadata": {},
   "outputs": [],
   "source": [
    "aoi=ee.Geometry.Polygon([\n",
    "[39.23103011417153,21.58115245787403],\n",
    "[39.23211104440453,21.58115245787403],\n",
    "[39.23211104440453,21.581850826461693],\n",
    "[39.23103011417153,21.581850826461693],\n",
    "[39.23103011417153,21.58115245787403]])\n",
    " #alsamer"
   ]
  },
  {
   "cell_type": "code",
   "execution_count": 11,
   "metadata": {},
   "outputs": [],
   "source": [
    "aoi=ee.Geometry.Polygon([\n",
    "[39.23207617568734,21.580518934885518],\n",
    "[39.23315710592034,21.580518934885518],\n",
    "[39.23315710592034,21.581217306527567],\n",
    "[39.23207617568734,21.581217306527567],\n",
    "[39.23207617568734,21.580518934885518]])\n",
    " #alsamer2"
   ]
  },
  {
   "cell_type": "code",
   "execution_count": 4,
   "metadata": {},
   "outputs": [],
   "source": [
    "aoi=ee.Geometry.Polygon([\n",
    "\n",
    "[-56.938467589094415,-8.57659829404617],\n",
    "[-56.93717208214022,-8.57659829404617],\n",
    "[-56.93717208214022,-8.576014806325485],\n",
    "[-56.938467589094415,-8.576014806325485],\n",
    "[-56.938467589094415,-8.57659829404617]\n",
    "\n",
    "])\n",
    "#amazon"
   ]
  },
  {
   "cell_type": "code",
   "execution_count": 5,
   "metadata": {},
   "outputs": [],
   "source": [
    "aoi=ee.Geometry.Polygon([\n",
    "\n",
    "[14.233839242930069,47.20476788905588],\n",
    "[14.460432260508194,47.20476788905588],\n",
    "[14.460432260508194,47.29239615721122],\n",
    "[14.233839242930069,47.29239615721122],\n",
    "[14.233839242930069,47.20476788905588]])\n",
    "#ausralia"
   ]
  },
  {
   "cell_type": "code",
   "execution_count": 6,
   "metadata": {},
   "outputs": [],
   "source": [
    "def maskClouds(image):\n",
    "    # Example of a simple cloud mask using the QA60 band\n",
    "    # Actual implementations can be more complex and might use additional bands or indices\n",
    "    qa60 = image.select('QA60')\n",
    "    cloudMask = qa60.bitwiseAnd(1 << 10).eq(0)\n",
    "    return image.updateMask(cloudMask)"
   ]
  },
  {
   "cell_type": "code",
   "execution_count": 18,
   "metadata": {},
   "outputs": [],
   "source": [
    "# Filter the Sentinel-2 ImageCollection for the specified date range, AOI, and apply cloud masking\n",
    "sentinelCollection = ee.ImageCollection(\"COPERNICUS/S2_SR\") \\\n",
    "    .filterDate('2023-01-01', '2024-01-30') \\\n",
    "    .filterBounds(aoi) \\\n",
    "    .map(maskClouds) \\\n",
    "    .select(['B4', 'B8']) \\\n",
    "    .median()  # Compute the median of the filtered collection\n",
    "\n",
    "# Clip the median image to the AOI\n",
    "clippedImage = sentinelCollection.clip(aoi)\n",
    "\n",
    "# Function to cast selected bands to Float32\n",
    "def castImage(image):\n",
    "    return image.toFloat()\n",
    "\n",
    "# Cast the selected bands of the clipped image to Float32\n",
    "castedImage = castImage(clippedImage)\n",
    "\n",
    "# Example export parameters (make sure to replace 'aoi.getInfo()['coordinates']' with your AOI coordinates if necessary)\n",
    "task = ee.batch.Export.image.toDrive(**{\n",
    "    'image': castedImage,\n",
    "    'description': 'australia',\n",
    "    'scale': 10,\n",
    "    'region': aoi.getInfo()['coordinates'],  # Make sure this is correctly defined for your AOI\n",
    "    'fileFormat': 'GeoTIFF',\n",
    "    'maxPixels': 1e9\n",
    "})\n",
    "task.start()"
   ]
  },
  {
   "cell_type": "markdown",
   "metadata": {},
   "source": [
    "# another way"
   ]
  },
  {
   "cell_type": "code",
   "execution_count": 7,
   "metadata": {},
   "outputs": [],
   "source": [
    "# Filter the Sentinel-2 ImageCollection for images within the AOI and time frame, and compute the median\n",
    "sentinelCollection = ee.ImageCollection(\"COPERNICUS/S2_SR\") \\\n",
    "    .filterDate('2023-01-01', '2024-01-01') \\\n",
    "    .filterBounds(aoi) \\\n",
    "    .median()\n",
    "\n",
    "# Clip the median image to the AOI\n",
    "clippedImage = sentinelCollection.clip(aoi)\n",
    "\n",
    "# Function to cast all bands to Float32\n",
    "def castImage(image):\n",
    "    return image.toFloat()\n",
    "\n",
    "# Cast all bands of the clipped image to Float32\n",
    "castedImage = castImage(clippedImage)\n",
    "\n",
    "\n",
    " #Export the casted image, specifying scale and region (this is an example, see below for details)\n",
    "task = ee.batch.Export.image.toDrive(**{\n",
    "   'image': castedImage,\n",
    "   'description': 'australia-2',\n",
    "   'scale': 10,\n",
    "   'region': aoi.getInfo()['coordinates'],\n",
    "   'fileFormat': 'GeoTIFF',\n",
    "   'maxPixels': 1e9\n",
    " })\n",
    "task.start()"
   ]
  },
  {
   "cell_type": "code",
   "execution_count": null,
   "metadata": {},
   "outputs": [],
   "source": []
  }
 ],
 "metadata": {
  "kernelspec": {
   "display_name": "Python 3",
   "language": "python",
   "name": "python3"
  },
  "language_info": {
   "codemirror_mode": {
    "name": "ipython",
    "version": 3
   },
   "file_extension": ".py",
   "mimetype": "text/x-python",
   "name": "python",
   "nbconvert_exporter": "python",
   "pygments_lexer": "ipython3",
   "version": "3.11.4"
  },
  "orig_nbformat": 4
 },
 "nbformat": 4,
 "nbformat_minor": 2
}
