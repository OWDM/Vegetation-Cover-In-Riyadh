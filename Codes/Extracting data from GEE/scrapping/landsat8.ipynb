{
 "cells": [
  {
   "cell_type": "code",
   "execution_count": 12,
   "metadata": {},
   "outputs": [],
   "source": [
    "import ee"
   ]
  },
  {
   "cell_type": "code",
   "execution_count": 14,
   "metadata": {},
   "outputs": [],
   "source": [
    "# Initialize the Earth Engine\n",
    "ee.Initialize()\n",
    "\n"
   ]
  },
  {
   "cell_type": "code",
   "execution_count": 3,
   "metadata": {},
   "outputs": [],
   "source": [
    "\n",
    "\n",
    "# Define the area of interest (AOI)\n",
    "aoi = ee.Geometry.Polygon([\n",
    "    [39.25879949255623, 21.88984377820288],\n",
    "    [39.26532262488045, 21.88984377820288],\n",
    "    [39.26532262488045, 21.894861167298092],\n",
    "    [39.25879949255623, 21.894861167298092],\n",
    "    [39.25879949255623, 21.88984377820288]\n",
    "])#uj"
   ]
  },
  {
   "cell_type": "code",
   "execution_count": 6,
   "metadata": {},
   "outputs": [],
   "source": [
    "aoi=ee.Geometry.Polygon( [\n",
    "[46.41388398001249,24.474133938125608],\n",
    "[46.99272614309843,24.474133938125608],\n",
    "[46.99272614309843,25.04372308127158],\n",
    "[46.41388398001249,25.04372308127158],\n",
    "[46.41388398001249,24.474133938125608]\n",
    "])  #new RUH-for ndvi values"
   ]
  },
  {
   "cell_type": "code",
   "execution_count": 16,
   "metadata": {},
   "outputs": [],
   "source": [
    "aoi=ee.Geometry.Polygon( [\n",
    "[39.230642953025026,21.578023959235942],\n",
    "[39.237681069480104,21.578023959235942],\n",
    "[39.237681069480104,21.583052246512302],\n",
    "[39.230642953025026,21.583052246512302],\n",
    "[39.230642953025026,21.578023959235942]\n",
    "]) #alsamer"
   ]
  },
  {
   "cell_type": "code",
   "execution_count": 27,
   "metadata": {},
   "outputs": [
    {
     "name": "stdout",
     "output_type": "stream",
     "text": [
      "Number of images in the collection after filtering:  21\n",
      "Export task started, check the Tasks tab in GEE Code Editor.\n"
     ]
    }
   ],
   "source": [
    "\n",
    "\n",
    "# Function to mask clouds using the quality band of Landsat 8\n",
    "def maskL8clouds(image):\n",
    "    qa = image.select('BQA')\n",
    "    # Cloud confidence (0-1) and cloud shadow (0-1) bit positions\n",
    "    cloudBitMask = 1 << 4\n",
    "    cloudShadowBitMask = 1 << 3\n",
    "    # Get the pixel QA band\n",
    "    # Both flags should be set to zero, indicating clear conditions.\n",
    "    mask = qa.bitwiseAnd(cloudBitMask).eq(0) \\\n",
    "        .And(qa.bitwiseAnd(cloudShadowBitMask).eq(0))\n",
    "    return image.updateMask(mask).divide(10000)\n",
    "\n",
    "# Filter the Landsat 8 ImageCollection for the AOI and date range\n",
    "startDate = '2021-02-01'\n",
    "endDate = '2024-3-26'\n",
    "landsat8 = ee.ImageCollection('LANDSAT/LC08/C01/T1_TOA') \\\n",
    "    .filterBounds(aoi) \\\n",
    "    .filterDate(startDate, endDate) \\\n",
    "    .map(maskL8clouds)  # Apply the cloud mask to each image\n",
    "\n",
    "# Print the number of images in the collection\n",
    "count = landsat8.size().getInfo()\n",
    "print('Number of images in the collection after filtering: ', count)\n",
    "\n",
    "# Note: Due to the limitations of GEE and the local environment, the following lines\n",
    "# demonstrate how you would prepare images for download, but the actual download\n",
    "# would need to be initiated from the GEE Code Editor Tasks panel.\n",
    "\n",
    "# Export the image, specifying scale and region.\n",
    "export = ee.batch.Export.image.toDrive(**{\n",
    "    'image': landsat8.median(),  # Use median to combine images\n",
    "    'description': 'Landsat8_alsamer_export',\n",
    "    'scale': 30,\n",
    "    'region': aoi\n",
    "})\n",
    "\n",
    "# Start the export task\n",
    "export.start()\n",
    "\n",
    "# Monitor the task in the Google Earth Engine Code Editor Tasks panel\n",
    "print('Export task started, check the Tasks tab in GEE Code Editor.')\n"
   ]
  },
  {
   "cell_type": "code",
   "execution_count": 4,
   "metadata": {},
   "outputs": [],
   "source": [
    "\n",
    "\n"
   ]
  }
 ],
 "metadata": {
  "kernelspec": {
   "display_name": "Python 3",
   "language": "python",
   "name": "python3"
  },
  "language_info": {
   "codemirror_mode": {
    "name": "ipython",
    "version": 3
   },
   "file_extension": ".py",
   "mimetype": "text/x-python",
   "name": "python",
   "nbconvert_exporter": "python",
   "pygments_lexer": "ipython3",
   "version": "3.11.4"
  },
  "orig_nbformat": 4
 },
 "nbformat": 4,
 "nbformat_minor": 2
}
