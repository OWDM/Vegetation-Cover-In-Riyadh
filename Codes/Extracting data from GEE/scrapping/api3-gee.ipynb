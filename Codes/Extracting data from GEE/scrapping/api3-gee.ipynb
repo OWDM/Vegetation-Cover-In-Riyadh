{
 "cells": [
  {
   "cell_type": "code",
   "execution_count": 1,
   "metadata": {},
   "outputs": [],
   "source": [
    "import ee\n"
   ]
  },
  {
   "cell_type": "code",
   "execution_count": 2,
   "metadata": {},
   "outputs": [
    {
     "data": {
      "text/plain": [
       "True"
      ]
     },
     "execution_count": 2,
     "metadata": {},
     "output_type": "execute_result"
    }
   ],
   "source": [
    "ee.Authenticate()\n"
   ]
  },
  {
   "cell_type": "code",
   "execution_count": 8,
   "metadata": {},
   "outputs": [],
   "source": [
    "ee.Initialize()"
   ]
  },
  {
   "cell_type": "code",
   "execution_count": 4,
   "metadata": {},
   "outputs": [],
   "source": [
    "aoi2 = ee.Geometry.Polygon([\n",
    "    [\n",
    "        [-71.07505705182442,42.226543564466205],\n",
    "        [-70.99386122052559,42.226543564466205],\n",
    "        [-70.99386122052559,42.26682587484719],\n",
    "        [-71.07505705182442,42.26682587484719],\n",
    "        [-71.07505705182442,42.226543564466205]\n",
    "    ]\n",
    "])"
   ]
  },
  {
   "cell_type": "code",
   "execution_count": 10,
   "metadata": {},
   "outputs": [],
   "source": [
    "aoi = ee.Geometry.Polygon([\n",
    "[\n",
    " [46.63793687529611,24.55027543110076],\n",
    " [46.63381700224924,24.52279130978844],\n",
    " [46.66196946806955,24.500612235884738],\n",
    " [46.77561364220541,24.479405812981817],\n",
    " [46.88238267607736,24.506547864624746],\n",
    " [46.94967393584299,24.50279907908126],\n",
    " [46.94555406279611,24.53153691026441],\n",
    " [46.9174015969758,24.581812285659446],\n",
    " [46.87997941680002,24.623328903692833],\n",
    " [46.88924087394517,24.6407356630825],\n",
    " [46.934559477460795,24.672249720670667],\n",
    " [46.89267410148423,24.76160021561917],\n",
    " [46.902458116454916,24.767679429950938],\n",
    " [46.91018356193345,24.77827810095159],\n",
    " [46.91207197081868,24.7994714238438],\n",
    " [46.90846694816392,24.81692476973317],\n",
    " [46.904347075117045,24.861789648543297],\n",
    " [46.86074508537095,24.959252291736576],\n",
    " [46.77113784660142,24.972635709430264],\n",
    " [46.66367782462876,24.99006309408782],\n",
    " [46.61698593009751,24.93154710720844],\n",
    " [46.59535659660142,24.910499454179533],\n",
    " [46.56248795177314,24.844291501941225],\n",
    " [46.55873238163879,24.794416927696318],\n",
    " [46.5594190271466,24.747656916552867],\n",
    " [46.5484326990216,24.684035065714575],\n",
    " [46.502427449998166,24.607271396659588],\n",
    " [46.5319532068341,24.547325535486475],\n",
    " [46.63793687529611,24.55027543110076]\n",
    "]\n",
    "])"
   ]
  },
  {
   "cell_type": "code",
   "execution_count": 5,
   "metadata": {},
   "outputs": [],
   "source": [
    "# Filter the Sentinel-2 ImageCollection for images within the AOI and time frame, and compute the median\n",
    "sentinelCollection = ee.ImageCollection(\"COPERNICUS/S2_SR\") \\\n",
    "    .filterDate('2024-01-01', '2024-01-30') \\\n",
    "    .filterBounds(aoi) \\\n",
    "    .median()\n",
    "\n",
    "# Clip the median image to the AOI\n",
    "clippedImage = sentinelCollection.clip(aoi)\n",
    "\n",
    "# Function to cast all bands to Float32\n",
    "def castImage(image):\n",
    "    return image.toFloat()\n",
    "\n",
    "# Cast all bands of the clipped image to Float32\n",
    "castedImage = castImage(clippedImage)\n",
    "\n",
    "\n",
    " #Export the casted image, specifying scale and region (this is an example, see below for details)\n",
    "task = ee.batch.Export.image.toDrive(**{\n",
    "   'image': castedImage,\n",
    "   'description': 'test-2-Full-Bands',\n",
    "   'scale': 10,\n",
    "   'region': aoi.getInfo()['coordinates'],\n",
    "   'fileFormat': 'GeoTIFF',\n",
    "   'maxPixels': 1e9\n",
    " })\n",
    "task.start()"
   ]
  }
 ],
 "metadata": {
  "kernelspec": {
   "display_name": "Python 3",
   "language": "python",
   "name": "python3"
  },
  "language_info": {
   "codemirror_mode": {
    "name": "ipython",
    "version": 3
   },
   "file_extension": ".py",
   "mimetype": "text/x-python",
   "name": "python",
   "nbconvert_exporter": "python",
   "pygments_lexer": "ipython3",
   "version": "3.11.8"
  }
 },
 "nbformat": 4,
 "nbformat_minor": 2
}
