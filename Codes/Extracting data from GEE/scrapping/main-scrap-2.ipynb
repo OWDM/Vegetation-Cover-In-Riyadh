{
 "cells": [
  {
   "cell_type": "code",
   "execution_count": 1,
   "metadata": {},
   "outputs": [],
   "source": [
    "import ee"
   ]
  },
  {
   "cell_type": "code",
   "execution_count": 2,
   "metadata": {},
   "outputs": [],
   "source": [
    "ee.Initialize()\n"
   ]
  },
  {
   "cell_type": "code",
   "execution_count": 7,
   "metadata": {},
   "outputs": [],
   "source": [
    "aoi=ee.Geometry.Polygon( [\n",
    "[46.41388398001249,24.474133938125608],\n",
    "[46.99272614309843,24.474133938125608],\n",
    "[46.99272614309843,25.04372308127158],\n",
    "[46.41388398001249,25.04372308127158],\n",
    "[46.41388398001249,24.474133938125608]\n",
    "])  #new RUH-for ndvi values"
   ]
  },
  {
   "cell_type": "code",
   "execution_count": 4,
   "metadata": {},
   "outputs": [],
   "source": [
    "aoi=ee.Geometry.Polygon( [\n",
    "[39.25879949255623,21.88984377820288],\n",
    "[39.26532262488045,21.88984377820288],\n",
    "[39.26532262488045,21.894861167298092],\n",
    "[39.25879949255623,21.894861167298092],\n",
    "[39.25879949255623,21.88984377820288]\n",
    "])  #uj"
   ]
  },
  {
   "cell_type": "code",
   "execution_count": 5,
   "metadata": {},
   "outputs": [],
   "source": [
    "# Function to mask clouds in Landsat 8 images\n",
    "def maskL8Clouds(image):\n",
    "    qa = image.select('pixel_qa')\n",
    "    # Cloud bit mask and shadow bit mask - these values depend on the Landsat 8 QA band\n",
    "    cloudBitMask = 1 << 5\n",
    "    shadowBitMask = 1 << 3\n",
    "\n",
    "    mask = qa.bitwiseAnd(cloudBitMask).eq(0).And(qa.bitwiseAnd(shadowBitMask).eq(0))\n",
    "    return image.updateMask(mask).divide(10000)  # Scale the pixel values\n",
    "\n",
    "# Filter the Landsat 8 ImageCollection for the specified date range, AOI, and apply cloud masking\n",
    "landsatCollection = ee.ImageCollection(\"LANDSAT/LC08/C01/T1_SR\") \\\n",
    "    .filterDate('2023-06-01', '2024-01-01') \\\n",
    "    .filterBounds(aoi) \\\n",
    "    .map(maskL8Clouds) \\\n",
    "    .select(['B4', 'B5']) \\\n",
    "    .median()  # Compute the median of the filtered collection\n",
    "\n",
    "# Clip the median image to the AOI\n",
    "clippedImage = landsatCollection.clip(aoi)\n",
    "\n",
    "# Function to cast selected bands to Float32\n",
    "def castImage(image):\n",
    "    return image.toFloat()\n",
    "\n",
    "# Cast the selected bands of the clipped image to Float32\n",
    "castedImage = castImage(clippedImage)\n",
    "\n",
    "# Example export parameters (make sure to replace 'aoi.getInfo()['coordinates']' with your AOI coordinates if necessary)\n",
    "task = ee.batch.Export.image.toDrive(**{\n",
    "    'image': castedImage,\n",
    "    'description': 'uj_Landsat-8_2',\n",
    "    'scale': 30,  # Landsat 8 has a different resolution; 30 meters for bands B4 and B5\n",
    "    'region': aoi.getInfo()['coordinates'],  # Make sure this is correctly defined for your AOI\n",
    "    'fileFormat': 'GeoTIFF',\n",
    "    'maxPixels': 1e9\n",
    "})\n",
    "task.start()\n"
   ]
  }
 ],
 "metadata": {
  "kernelspec": {
   "display_name": "Python 3",
   "language": "python",
   "name": "python3"
  },
  "language_info": {
   "codemirror_mode": {
    "name": "ipython",
    "version": 3
   },
   "file_extension": ".py",
   "mimetype": "text/x-python",
   "name": "python",
   "nbconvert_exporter": "python",
   "pygments_lexer": "ipython3",
   "version": "3.11.4"
  },
  "orig_nbformat": 4
 },
 "nbformat": 4,
 "nbformat_minor": 2
}
