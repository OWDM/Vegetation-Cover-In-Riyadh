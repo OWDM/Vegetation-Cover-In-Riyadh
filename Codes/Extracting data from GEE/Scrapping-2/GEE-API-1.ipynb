{
 "cells": [
  {
   "cell_type": "code",
   "execution_count": 7,
   "metadata": {},
   "outputs": [],
   "source": [
    "import ee\n",
    "import datetime"
   ]
  },
  {
   "cell_type": "code",
   "execution_count": 8,
   "metadata": {},
   "outputs": [],
   "source": [
    "# Initialize the Earth Engine library.\n",
    "ee.Initialize()"
   ]
  },
  {
   "cell_type": "code",
   "execution_count": 12,
   "metadata": {},
   "outputs": [
    {
     "name": "stdout",
     "output_type": "stream",
     "text": [
      "Export tasks started. Check the 'Tasks' tab in the GEE Code Editor or your Google Drive for progress.\n"
     ]
    }
   ],
   "source": [
    "# Define the area of interest (AOI)\n",
    "aoi = ee.Geometry.Polygon([\n",
    "    [\n",
    "        [39.24781494969205, 21.88731024190632],  # Bottom Left\n",
    "        [39.280945595444, 21.88731024190632],    # Bottom Right\n",
    "        [39.280945595444, 21.916058795347105],   # Top Right\n",
    "        [39.24781494969205, 21.916058795347105], # Top Left\n",
    "        [39.24781494969205, 21.88731024190632]   # Closing the loop\n",
    "    ]\n",
    "])\n",
    "\n",
    "# Function to calculate NDVI\n",
    "def addNDVI(image):\n",
    "    return image.addBands(image.normalizedDifference(['B8', 'B4']).rename('NDVI'))\n",
    "\n",
    "# Function to mask clouds and shadows\n",
    "def maskClouds(image):\n",
    "    qa = image.select('QA60')\n",
    "    cloudBitMask = 1 << 10\n",
    "    cirrusBitMask = 1 << 11\n",
    "    mask = qa.bitwiseAnd(cloudBitMask).eq(0).And(qa.bitwiseAnd(cirrusBitMask).eq(0))\n",
    "    return image.updateMask(mask)\n",
    "\n",
    "# Function to export images to Google Drive\n",
    "def exportImage(image, index):\n",
    "    date = image.date().format('YYYY-MM-dd').getInfo()  # Get the image date for naming\n",
    "    task = ee.batch.Export.image.toDrive(\n",
    "        image=image.select(['NDVI']),\n",
    "        description=f'NDVI_{date}_{index}',\n",
    "        scale=10,\n",
    "        region=aoi.getInfo()['coordinates'],\n",
    "        folder='YourFolderName',  # Specify your folder name here\n",
    "        fileFormat='GeoTIFF'\n",
    "    )\n",
    "    task.start()\n",
    "\n",
    "# Load Sentinel-2 ImageCollection, filter by date and AOI, apply NDVI and cloud masking\n",
    "sentinelCollection = ee.ImageCollection(\"COPERNICUS/S2_SR\") \\\n",
    "    .filterDate('2018-01-01', '2018-12-31') \\\n",
    "    .filterBounds(aoi) \\\n",
    "    .map(addNDVI) \\\n",
    "    .map(maskClouds)\n",
    "\n",
    "# Convert the collection to a list for iteration\n",
    "imageList = sentinelCollection.toList(sentinelCollection.size())\n",
    "\n",
    "# Loop through the image list to export each image\n",
    "for index in range(imageList.size().getInfo()):\n",
    "    eeImage = ee.Image(imageList.get(index))\n",
    "    exportImage(eeImage, index)\n",
    "\n",
    "print(\"Export tasks started. Check the 'Tasks' tab in the GEE Code Editor or your Google Drive for progress.\")\n"
   ]
  }
 ],
 "metadata": {
  "kernelspec": {
   "display_name": "Python 3",
   "language": "python",
   "name": "python3"
  },
  "language_info": {
   "codemirror_mode": {
    "name": "ipython",
    "version": 3
   },
   "file_extension": ".py",
   "mimetype": "text/x-python",
   "name": "python",
   "nbconvert_exporter": "python",
   "pygments_lexer": "ipython3",
   "version": "3.11.4"
  },
  "orig_nbformat": 4
 },
 "nbformat": 4,
 "nbformat_minor": 2
}
