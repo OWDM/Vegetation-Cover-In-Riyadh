{
 "cells": [
  {
   "cell_type": "code",
   "execution_count": 1,
   "metadata": {},
   "outputs": [
    {
     "data": {
      "text/plain": [
       "(array([0.5, 0.2]), array([0.5, 0.1]), array([0.  , 0.01]))"
      ]
     },
     "execution_count": 1,
     "metadata": {},
     "output_type": "execute_result"
    }
   ],
   "source": [
    "import numpy as np\n",
    "\n",
    "# Re-initializing the example NDVI arrays\n",
    "A1 = np.array([0.5, 0.2, 0.01, -0.2])\n",
    "A2 = np.array([0.5, 0.10, 0.1, -0.13])\n",
    "A3 = np.array([0, 0.01, 0.10, -0.24])\n",
    "\n",
    "# Threshold for considering vegetation cover\n",
    "threshold = 0.111\n",
    "\n",
    "# Create masks where values are above the threshold\n",
    "mask1 = A1 > threshold\n",
    "mask2 = A2 > threshold\n",
    "mask3 = A3 > threshold\n",
    "\n",
    "\n",
    "combined_mask_or = mask1 | mask2 | mask3\n",
    "\n",
    "# Apply the combined mask to each array\n",
    "filtered_A1_or = A1[combined_mask_or]\n",
    "filtered_A2_or = A2[combined_mask_or]\n",
    "filtered_A3_or = A3[combined_mask_or]\n",
    "\n",
    "filtered_A1_or, filtered_A2_or, filtered_A3_or\n"
   ]
  },
  {
   "cell_type": "markdown",
   "metadata": {},
   "source": []
  },
  {
   "cell_type": "code",
   "execution_count": null,
   "metadata": {},
   "outputs": [],
   "source": [
    "import numpy as np\n",
    "import os\n",
    "\n",
    "# Define the directory containing the NDVI array files\n",
    "directory = r'C:\\Users\\Musae\\Documents\\GitHub-REPOs\\Senior-project_Doc\\Docs\\Array\\NDVI-Array'\n",
    "threshold = 0.111\n",
    "\n",
    "# Initialize an empty list to store the masks\n",
    "masks = []\n",
    "\n",
    "# Load each file and create a mask\n",
    "for filename in os.listdir(directory):\n",
    "    if filename.endswith(\".npy\"):\n",
    "        file_path = os.path.join(directory, filename)\n",
    "        array = np.load(file_path)\n",
    "        mask = array > threshold\n",
    "        masks.append(mask)\n",
    "\n",
    "# Combine all masks using logical OR to identify consistent vegetation cover\n",
    "combined_mask = np.logical_or.reduce(masks)\n",
    "\n",
    "# Apply the combined mask to each array and optionally save or process them\n",
    "filtered_arrays = []\n",
    "for filename in os.listdir(directory):\n",
    "    if filename.endswith(\".npy\"):\n",
    "        file_path = os.path.join(directory, filename)\n",
    "        array = np.load(file_path)\n",
    "        filtered_array = array[combined_mask]\n",
    "        filtered_arrays.append(filtered_array)\n",
    "        # Optionally save the filtered array\n",
    "        # np.save(os.path.join(directory, 'filtered_' + filename), filtered_array)\n",
    "\n",
    "# You can now use filtered_arrays for further processing or analysis\n"
   ]
  },
  {
   "cell_type": "code",
   "execution_count": 9,
   "metadata": {},
   "outputs": [],
   "source": [
    "import numpy as np\n",
    "import os\n",
    "\n",
    "# Define the directory containing the NDVI array files\n",
    "directory = r'C:\\Users\\Musae\\Documents\\GitHub-REPOs\\Senior-project_Doc\\Docs\\Array\\NDVI-test'\n",
    "threshold = 0.111\n",
    "\n",
    "# Initialize an empty list to store the masks\n",
    "masks = []\n",
    "\n",
    "# Load each file and create a mask\n",
    "for filename in os.listdir(directory):\n",
    "    if filename.endswith(\".npy\"):\n",
    "        file_path = os.path.join(directory, filename)\n",
    "        array = np.load(file_path)\n",
    "        mask = array > threshold\n",
    "        masks.append(mask)\n",
    "\n",
    "# Combine all masks using logical OR to identify potential vegetation cover at least once\n",
    "combined_mask = np.logical_or.reduce(masks)\n",
    "\n",
    "# Apply the combined mask to each array and save the filtered data\n",
    "for filename in os.listdir(directory):\n",
    "    if filename.endswith(\".npy\"):\n",
    "        file_path = os.path.join(directory, filename)\n",
    "        array = np.load(file_path)\n",
    "        filtered_array = array[combined_mask]\n",
    "        # Save the filtered array with a new suffix to distinguish them\n",
    "        new_filename = 'reduced_' + filename\n",
    "        np.save(os.path.join(directory, new_filename), filtered_array)\n",
    "\n"
   ]
  },
  {
   "cell_type": "code",
   "execution_count": 11,
   "metadata": {},
   "outputs": [],
   "source": [
    "import numpy as np\n",
    "import os\n",
    "\n",
    "# Define the directory containing the NDVI array files\n",
    "input_directory = r'C:\\Users\\Musae\\Documents\\GitHub-REPOs\\Senior-project_Doc\\Docs\\Array\\NDVI-Array'\n",
    "output_directory = r'C:\\Users\\Musae\\Documents\\GitHub-REPOs\\Senior-project_Doc\\Docs\\Array\\NDVI-Reduced'\n",
    "\n",
    "# Create output directory if it does not exist\n",
    "if not os.path.exists(output_directory):\n",
    "    os.makedirs(output_directory)\n",
    "\n",
    "# Threshold for considering vegetation cover\n",
    "threshold = 0.111\n",
    "\n",
    "# Initialize an empty list to store the masks\n",
    "masks = []\n",
    "\n",
    "# Load each file and create a mask\n",
    "for filename in os.listdir(input_directory):\n",
    "    if filename.endswith(\".npy\"):\n",
    "        file_path = os.path.join(input_directory, filename)\n",
    "        array = np.load(file_path)\n",
    "        mask = array > threshold\n",
    "        masks.append(mask)\n",
    "\n",
    "# Combine all masks using logical OR to identify potential vegetation cover at least once\n",
    "combined_mask = np.logical_or.reduce(masks)\n",
    "\n",
    "# Apply the combined mask to each array and save the filtered data in the new directory\n",
    "for filename in os.listdir(input_directory):\n",
    "    if filename.endswith(\".npy\"):\n",
    "        file_path = os.path.join(input_directory, filename)\n",
    "        array = np.load(file_path)\n",
    "        filtered_array = array[combined_mask]\n",
    "        # Save the filtered array with a new suffix to distinguish them\n",
    "        new_filename = 'reduced_' + filename\n",
    "        np.save(os.path.join(output_directory, new_filename), filtered_array)\n"
   ]
  }
 ],
 "metadata": {
  "kernelspec": {
   "display_name": "Python 3",
   "language": "python",
   "name": "python3"
  },
  "language_info": {
   "codemirror_mode": {
    "name": "ipython",
    "version": 3
   },
   "file_extension": ".py",
   "mimetype": "text/x-python",
   "name": "python",
   "nbconvert_exporter": "python",
   "pygments_lexer": "ipython3",
   "version": "3.11.4"
  },
  "orig_nbformat": 4
 },
 "nbformat": 4,
 "nbformat_minor": 2
}
